{
 "cells": [
  {
   "cell_type": "code",
   "execution_count": 1,
   "metadata": {
    "deletable": false,
    "editable": false,
    "nbgrader": {
     "cell_type": "code",
     "checksum": "8d85b8fd62bc9127b2f6ab4dadac5600",
     "grade": false,
     "grade_id": "cell-f5daeeabbd83bdfe",
     "locked": true,
     "schema_version": 3,
     "solution": false
    }
   },
   "outputs": [],
   "source": [
    "version = \"2.1.2\""
   ]
  },
  {
   "cell_type": "markdown",
   "metadata": {
    "deletable": false,
    "editable": false,
    "nbgrader": {
     "cell_type": "markdown",
     "checksum": "862c5925cb54108ebe5afe390ecc6c3f",
     "grade": false,
     "grade_id": "cell-23cb4888ac319817",
     "locked": true,
     "schema_version": 3,
     "solution": false,
     "task": false
    }
   },
   "source": [
    "<a id='toc'></a>\n",
    "# Table of Contents\n",
    "- **[Assignment Description](#Topic0)**\n",
    "- **[Topic 1 - Principal Components Analysis](#Topic1)**\n",
    "  - [Task 1a](#t1a)\n",
    "  - [Task 1b](#t1b)\n",
    "  - [Task 1c](#t1c)\n",
    "  - [Task 1d](#t1d)\n",
    "  - [Task 1e](#t1e)\n",
    "  - [Task 1f](#t1f)\n",
    "- **[Topic 2 - UMAP to find outliers](#Topic2)**\n",
    "  - [Task 2a](#t2a)\n",
    "  - [Task 2b](#t2b)\n",
    "    - [Outlier Plot](#t2b1)\n",
    "- **[Topic 3 - Using t-SNE, PCA, MDS](#Topic3)**\n",
    "  - [Plot blob data](#t3bd)\n",
    "  - [Task 3a](#t3a)\n",
    "  - [Task 3b](#t3b)\n",
    "- **[Topic 4 - Density Estimation](#Topic4)**\n",
    "  - [Task 4a](#t4a)\n",
    "  - [Task 4b](#t4b)\n",
    "    - [Density Plot](#t4b1)\n",
    "  - [Task 4c](#t4c)"
   ]
  },
  {
   "cell_type": "code",
   "execution_count": 2,
   "metadata": {},
   "outputs": [],
   "source": [
    "# Either of the following is no longer\n",
    "# necessary for matplotlib in notebooks.\n",
    "# The import statement has you covered!\n",
    "\n",
    "# %matplotlib notebook\n",
    "# %matplotlib inline"
   ]
  },
  {
   "cell_type": "code",
   "execution_count": 3,
   "metadata": {},
   "outputs": [],
   "source": [
    "# Suppress all warnings only when absolutely necessary\n",
    "# Warnings are in place for a reason!\n",
    "import warnings\n",
    "\n",
    "# warnings.filterwarnings('ignore')\n",
    "# warnings.simplefilter('ignore')"
   ]
  },
  {
   "cell_type": "markdown",
   "metadata": {
    "deletable": false,
    "editable": false,
    "nbgrader": {
     "cell_type": "markdown",
     "checksum": "1acf36eacc9a51eca130d5ce33c097ad",
     "grade": false,
     "grade_id": "cell-5e2ebc16cee71962",
     "locked": true,
     "schema_version": 3,
     "solution": false
    }
   },
   "source": [
    "<a id='Topic0'></a>\n",
    "# SIADS 543 Assignment 1: Introduction to Unsupervised Learning\n",
    "\n",
    "In this week's assignment you'll gain experience applying dimensionality reduction, manifold learning and density estimation techniques. With these examples, you'll see how they can help gain insights into new datasets and extract potential new features for additional machine learning steps such as clustering or training a classifier.\n",
    "\n",
    "*Please note that for autograder messages that check a list, it will typically report any problems using a list index starting at zero, i.e. the first list element is called \"element 0\".*  \n",
    "\n",
    "<a href='#toc'>TOC</a>"
   ]
  },
  {
   "cell_type": "code",
   "execution_count": 4,
   "metadata": {
    "deletable": false,
    "editable": false,
    "nbgrader": {
     "cell_type": "code",
     "checksum": "13f85f4fff4afeb0a22c1fcaa86fee6c",
     "grade": false,
     "grade_id": "cell-3ed33675af0750b8",
     "locked": true,
     "schema_version": 3,
     "solution": false
    }
   },
   "outputs": [],
   "source": [
    "# First import some necessary libraries\n",
    "import numpy as np\n",
    "import pandas as pd\n",
    "import seaborn as sns\n",
    "import matplotlib.pyplot as plt\n",
    "\n",
    "up, down = True, False"
   ]
  },
  {
   "cell_type": "code",
   "execution_count": 5,
   "metadata": {},
   "outputs": [],
   "source": [
    "np.set_printoptions(precision=3)\n",
    "\n",
    "## Additional imports can be inlcuded here"
   ]
  },
  {
   "cell_type": "code",
   "execution_count": 6,
   "metadata": {
    "deletable": false,
    "editable": false,
    "nbgrader": {
     "cell_type": "code",
     "checksum": "9f8a274b0091c2785d5ad2bb7235821e",
     "grade": false,
     "grade_id": "cell-3cb1d6ebee19a3a0",
     "locked": true,
     "schema_version": 3,
     "solution": false,
     "task": false
    }
   },
   "outputs": [],
   "source": [
    "# dataset path and file name\n",
    "\n",
    "heart_dataset = \"./assets/mads_SAHeart.csv\"\n",
    "beer_dataset = \"./assets/beer2.csv\""
   ]
  },
  {
   "cell_type": "markdown",
   "metadata": {
    "deletable": false,
    "editable": false,
    "nbgrader": {
     "cell_type": "markdown",
     "checksum": "cd34ff8eb0da6b16aa97855d99ba15ad",
     "grade": false,
     "grade_id": "cell-a7a9c172773e4199",
     "locked": true,
     "schema_version": 3,
     "solution": false
    }
   },
   "source": [
    "<a id='Topic1'></a>\n",
    "## Topic 1 - Principal Components Analysis (40 points total)\n",
    "\n",
    "In this question you'll use PCA to explore a new dataset of beer ratings and reviews. The goal is to gain experience using PCA and related tools such as a biplot to get insights into the data, especially how ratings can be explained via a smaller number of latent factors.\n",
    "\n",
    "Each row of the dataset corresponds to one beer review. \n",
    "\n",
    "Each beer is reviewed on a scale from 1 to 5 using these variables:\n",
    "\n",
    "`review_appearance` :: How appealing is the color, clarity of the beer?\n",
    "\n",
    "`review_aroma` :: How appealing is the aroma?\n",
    "\n",
    "`review_palate` :: How appealing is the \"palate\": the combination of carbonation, mouthfeel, alcohol profile and texture? \n",
    "\n",
    "`review_taste` :: How appealing is the taste - e.g. is there a good balance of sweet and bitter?\n",
    "\n",
    "`review_overall` :: How appealing is the overall experience of drinking this beer?\n",
    "\n",
    "Each beer record also has several other columns, the most important of which are:\n",
    "\n",
    "`beer_index` :: unique row number for each beer\n",
    "\n",
    "`beer_name` :: the name of the specific beer product (note there may be multiple reviews/row for a specific beer name)\n",
    "\n",
    "`abv` :: alcohol by volume\n",
    "\n",
    "There are also columns with brewery name, accompanying review text, etc. although these won't be used for this question.  \n",
    "\n",
    "#### We provided the initial code below to read in the dataset using pandas.  \n",
    "\n",
    "<a href='#toc'>TOC</a>"
   ]
  },
  {
   "cell_type": "code",
   "execution_count": 7,
   "metadata": {
    "deletable": false,
    "editable": false,
    "nbgrader": {
     "cell_type": "code",
     "checksum": "04ab84ab967da891f47570351f00f232",
     "grade": false,
     "grade_id": "cell-206e1324baa4677f",
     "locked": true,
     "schema_version": 3,
     "solution": false
    }
   },
   "outputs": [
    {
     "data": {
      "text/html": [
       "<div>\n",
       "<style scoped>\n",
       "    .dataframe tbody tr th:only-of-type {\n",
       "        vertical-align: middle;\n",
       "    }\n",
       "\n",
       "    .dataframe tbody tr th {\n",
       "        vertical-align: top;\n",
       "    }\n",
       "\n",
       "    .dataframe thead th {\n",
       "        text-align: right;\n",
       "    }\n",
       "</style>\n",
       "<table border=\"1\" class=\"dataframe\">\n",
       "  <thead>\n",
       "    <tr style=\"text-align: right;\">\n",
       "      <th></th>\n",
       "      <th>beer_index</th>\n",
       "      <th>abv</th>\n",
       "      <th>beer_id</th>\n",
       "      <th>brewer_id</th>\n",
       "      <th>beer_name</th>\n",
       "      <th>beer_style</th>\n",
       "      <th>review_appearance</th>\n",
       "      <th>review_aroma</th>\n",
       "      <th>review_overall</th>\n",
       "      <th>review_palate</th>\n",
       "      <th>profile_name</th>\n",
       "      <th>review_taste</th>\n",
       "      <th>text</th>\n",
       "      <th>time</th>\n",
       "    </tr>\n",
       "  </thead>\n",
       "  <tbody>\n",
       "    <tr>\n",
       "      <th>0</th>\n",
       "      <td>0</td>\n",
       "      <td>7.0</td>\n",
       "      <td>2511</td>\n",
       "      <td>287</td>\n",
       "      <td>Bell's Cherry Stout</td>\n",
       "      <td>American Stout</td>\n",
       "      <td>4.5</td>\n",
       "      <td>4.0</td>\n",
       "      <td>4.5</td>\n",
       "      <td>4.0</td>\n",
       "      <td>blaheath</td>\n",
       "      <td>4.5</td>\n",
       "      <td>Batch 8144\\tPitch black in color with a 1/2 f...</td>\n",
       "      <td>10/5/2009 21:31</td>\n",
       "    </tr>\n",
       "    <tr>\n",
       "      <th>1</th>\n",
       "      <td>1</td>\n",
       "      <td>5.7</td>\n",
       "      <td>19736</td>\n",
       "      <td>9790</td>\n",
       "      <td>Duck-Rabbit Porter</td>\n",
       "      <td>American Porter</td>\n",
       "      <td>4.5</td>\n",
       "      <td>4.0</td>\n",
       "      <td>4.5</td>\n",
       "      <td>4.0</td>\n",
       "      <td>GJ40</td>\n",
       "      <td>4.0</td>\n",
       "      <td>Sampled from a 12oz bottle in a standard pint...</td>\n",
       "      <td>10/5/2009 21:32</td>\n",
       "    </tr>\n",
       "    <tr>\n",
       "      <th>2</th>\n",
       "      <td>2</td>\n",
       "      <td>4.8</td>\n",
       "      <td>11098</td>\n",
       "      <td>3182</td>\n",
       "      <td>Fürstenberg Premium Pilsener</td>\n",
       "      <td>German Pilsener</td>\n",
       "      <td>4.0</td>\n",
       "      <td>3.0</td>\n",
       "      <td>3.0</td>\n",
       "      <td>3.0</td>\n",
       "      <td>biegaman</td>\n",
       "      <td>3.5</td>\n",
       "      <td>Haystack yellow with an energetic group of bu...</td>\n",
       "      <td>10/5/2009 21:32</td>\n",
       "    </tr>\n",
       "    <tr>\n",
       "      <th>3</th>\n",
       "      <td>3</td>\n",
       "      <td>9.5</td>\n",
       "      <td>28577</td>\n",
       "      <td>3818</td>\n",
       "      <td>Unearthly (Imperial India Pale Ale)</td>\n",
       "      <td>American Double / Imperial IPA</td>\n",
       "      <td>4.0</td>\n",
       "      <td>4.0</td>\n",
       "      <td>4.0</td>\n",
       "      <td>4.0</td>\n",
       "      <td>nick76</td>\n",
       "      <td>4.0</td>\n",
       "      <td>The aroma has pine, wood, citrus, caramel, an...</td>\n",
       "      <td>10/5/2009 21:32</td>\n",
       "    </tr>\n",
       "    <tr>\n",
       "      <th>4</th>\n",
       "      <td>4</td>\n",
       "      <td>5.8</td>\n",
       "      <td>398</td>\n",
       "      <td>119</td>\n",
       "      <td>Wolaver's Pale Ale</td>\n",
       "      <td>American Pale Ale (APA)</td>\n",
       "      <td>4.0</td>\n",
       "      <td>3.0</td>\n",
       "      <td>4.0</td>\n",
       "      <td>3.5</td>\n",
       "      <td>champ103</td>\n",
       "      <td>3.0</td>\n",
       "      <td>A: Pours a slightly hazy golden/orange color....</td>\n",
       "      <td>10/5/2009 21:33</td>\n",
       "    </tr>\n",
       "  </tbody>\n",
       "</table>\n",
       "</div>"
      ],
      "text/plain": [
       "   beer_index  abv  beer_id  brewer_id                            beer_name  \\\n",
       "0           0  7.0     2511        287                  Bell's Cherry Stout   \n",
       "1           1  5.7    19736       9790                   Duck-Rabbit Porter   \n",
       "2           2  4.8    11098       3182         Fürstenberg Premium Pilsener   \n",
       "3           3  9.5    28577       3818  Unearthly (Imperial India Pale Ale)   \n",
       "4           4  5.8      398        119                   Wolaver's Pale Ale   \n",
       "\n",
       "                       beer_style  review_appearance  review_aroma  \\\n",
       "0                  American Stout                4.5           4.0   \n",
       "1                 American Porter                4.5           4.0   \n",
       "2                 German Pilsener                4.0           3.0   \n",
       "3  American Double / Imperial IPA                4.0           4.0   \n",
       "4         American Pale Ale (APA)                4.0           3.0   \n",
       "\n",
       "   review_overall  review_palate profile_name  review_taste  \\\n",
       "0             4.5            4.0     blaheath           4.5   \n",
       "1             4.5            4.0         GJ40           4.0   \n",
       "2             3.0            3.0     biegaman           3.5   \n",
       "3             4.0            4.0       nick76           4.0   \n",
       "4             4.0            3.5     champ103           3.0   \n",
       "\n",
       "                                                text             time  \n",
       "0   Batch 8144\\tPitch black in color with a 1/2 f...  10/5/2009 21:31  \n",
       "1   Sampled from a 12oz bottle in a standard pint...  10/5/2009 21:32  \n",
       "2   Haystack yellow with an energetic group of bu...  10/5/2009 21:32  \n",
       "3   The aroma has pine, wood, citrus, caramel, an...  10/5/2009 21:32  \n",
       "4   A: Pours a slightly hazy golden/orange color....  10/5/2009 21:33  "
      ]
     },
     "execution_count": 7,
     "metadata": {},
     "output_type": "execute_result"
    }
   ],
   "source": [
    "feature_names = [\n",
    "    \"review_appearance\",\n",
    "    \"review_aroma\",\n",
    "    \"review_palate\",\n",
    "    \"review_taste\",\n",
    "    \"review_overall\",\n",
    "]\n",
    "\n",
    "df = pd.read_csv(beer_dataset)\n",
    "df = df.dropna()\n",
    "df.head()"
   ]
  },
  {
   "cell_type": "markdown",
   "metadata": {
    "deletable": false,
    "editable": false,
    "nbgrader": {
     "cell_type": "markdown",
     "checksum": "9195fb9edd5e4d2cc05b1dccc85600be",
     "grade": false,
     "grade_id": "cell-600814ea9bc3ddd2",
     "locked": true,
     "schema_version": 3,
     "solution": false
    }
   },
   "source": [
    "<a id='t1a'></a>\n",
    "### Task 1a - Prepare the data using the following steps (10 points).\n",
    "\n",
    "1. Starting with the \"df\" dataframe above, first create a new dataframe that selects only the following columns: \n",
    "\n",
    "`beer_name`\n",
    "\n",
    "`review_appearance` \n",
    "\n",
    "`review_aroma` \n",
    "\n",
    "`review_palate` \n",
    "\n",
    "`review_taste` \n",
    "\n",
    "`review_overall`\n",
    "\n",
    "2. Since some specific beers have multiple reviews,  group by the `beer_name` field and collapse all reviews for the beer into a single row with the mean review scores for each beer.\n",
    "\n",
    "3. Next, correctly prepare this new grouped dataset for PCA by applying standard normalization (StandardScaler, with default parameters). As a reminder, after this normalization, for a given variable, (a) columns will be centred to have a mean of zero: values that are above the column mean will be greater than zero, and values that are below the mean will be less than zero. (b) all values will also be normalized to have a standard deviation of 1.\n",
    "\n",
    "Return the numpy array that is output from your normalization step. It should have shape (N, 5) where N is the number of rows after grouping.  \n",
    "\n",
    "<a href='#toc'>TOC</a>"
   ]
  },
  {
   "cell_type": "code",
   "execution_count": 8,
   "metadata": {
    "deletable": false,
    "editable": false,
    "nbgrader": {
     "cell_type": "code",
     "checksum": "19d1e5d375d0b37a2ce82b8d17bda653",
     "grade": true,
     "grade_id": "cell-ac823b706beb20d8",
     "locked": true,
     "points": 0,
     "schema_version": 3,
     "solution": false,
     "task": false
    }
   },
   "outputs": [],
   "source": [
    "# something to say\n",
    "task_id = \"1a\""
   ]
  },
  {
   "cell_type": "code",
   "execution_count": 9,
   "metadata": {
    "deletable": false,
    "nbgrader": {
     "cell_type": "code",
     "checksum": "613e854f9753376c1d652e1169cb9942",
     "grade": false,
     "grade_id": "cell-39869f6c3ec5fdb2",
     "locked": false,
     "schema_version": 3,
     "solution": true
    }
   },
   "outputs": [],
   "source": [
    "def answer_pca_a():\n",
    "\n",
    "    result = None\n",
    "    from sklearn.preprocessing import StandardScaler\n",
    "    \n",
    "    res = df[feature_names + [\"beer_name\"]]\n",
    "    res = res.groupby(['beer_name']).mean()\n",
    "    result = StandardScaler().fit(res).transform(res)\n",
    "\n",
    "    return result"
   ]
  },
  {
   "cell_type": "code",
   "execution_count": 10,
   "metadata": {},
   "outputs": [
    {
     "data": {
      "text/plain": [
       "array([[ 0.499,  0.635, -1.034,  0.529,  0.447],\n",
       "       [ 0.499,  0.635,  0.628,  0.529,  0.447],\n",
       "       [ 0.499,  0.103,  0.905,  0.781,  0.707],\n",
       "       ...,\n",
       "       [ 0.906,  1.123,  0.905,  0.992,  0.621],\n",
       "       [ 0.499,  1.434,  1.459,  1.287,  1.227],\n",
       "       [-0.052,  0.316,  0.296,  0.529, -0.02 ]])"
      ]
     },
     "execution_count": 10,
     "metadata": {},
     "output_type": "execute_result"
    }
   ],
   "source": [
    "# use this cell to explore your solution\n",
    "# remember to comment the function call before submitting the notebook\n",
    "\n",
    "answer_pca_a()"
   ]
  },
  {
   "cell_type": "code",
   "execution_count": 11,
   "metadata": {
    "deletable": false,
    "editable": false,
    "nbgrader": {
     "cell_type": "code",
     "checksum": "7235d454de0595427650efa85e6ce14f",
     "grade": true,
     "grade_id": "cell-12ae4586bb89e123",
     "locked": true,
     "points": 10,
     "schema_version": 3,
     "solution": false
    }
   },
   "outputs": [
    {
     "name": "stdout",
     "output_type": "stream",
     "text": [
      "Task 1a - AG tests\n",
      "Task 1a - your answer:\n",
      "[[ 0.499  0.635 -1.034  0.529  0.447]\n",
      " [ 0.499  0.635  0.628  0.529  0.447]\n",
      " [ 0.499  0.103  0.905  0.781  0.707]\n",
      " ...\n",
      " [ 0.906  1.123  0.905  0.992  0.621]\n",
      " [ 0.499  1.434  1.459  1.287  1.227]\n",
      " [-0.052  0.316  0.296  0.529 -0.02 ]]\n"
     ]
    }
   ],
   "source": [
    "print(f\"Task {task_id} - AG tests\")\n",
    "stu_ans = answer_pca_a()\n",
    "\n",
    "print(f\"Task {task_id} - your answer:\\n{stu_ans}\")\n",
    "\n",
    "assert isinstance(\n",
    "    stu_ans, np.ndarray\n",
    "), \"Task 1a: Your function should return an np.ndarray. \"\n",
    "\n",
    "assert (\n",
    "    stu_ans.shape[1] == 5\n",
    "), \"Task 1a: Your returned ndarray has an incorrect number of columns. \"\n",
    "\n",
    "assert np.isclose(\n",
    "    np.mean(stu_ans, axis=0), 0.0\n",
    ").all(), \"Task 1a: The columns of your returned ndarray should have a zero mean. \"\n",
    "\n",
    "assert np.isclose(\n",
    "    np.std(stu_ans, axis=0), 1.0\n",
    ").all(), \"Task 1a: The columns of your returned ndarray should have a unit std. \"\n",
    "\n",
    "# Some hidden tests\n",
    "\n",
    "del stu_ans"
   ]
  },
  {
   "cell_type": "markdown",
   "metadata": {
    "deletable": false,
    "editable": false,
    "nbgrader": {
     "cell_type": "markdown",
     "checksum": "ff80b4bd1c563796affd64e696e1d016",
     "grade": false,
     "grade_id": "cell-251634c66127861b",
     "locked": true,
     "schema_version": 3,
     "solution": false
    }
   },
   "source": [
    "<a id='t1b'></a>\n",
    "### Task 1b - Highest-rated beers (10 points).\n",
    "\n",
    "Which beers have the highest `review_overall` score?  You'll note that many beers are tied for the highest score, so we'll also do a secondary sort alphabetically by name (not fair to the Zywiec Porter, but...). \n",
    "\n",
    "Specifically, to produce the result array: \n",
    "\n",
    "1. Take either the original dataset or your normalized dataset (the relative ranking will be the same)\n",
    "\n",
    "2. Sort by descending values of the (normalized) `review_overall` feature as the primary key\n",
    "\n",
    "3. Also sort the array by ascending values from the `beer_name` feature as the secondary key to sort the beers with tied overall review scores alphabetically.\n",
    "\n",
    "(Hint: the numpy function `lexsort` makes this easy. And if you want to reverse the direction of a numeric sort, just make the key variable negative).  \n",
    "\n",
    "Your function should return a numpy array with 10 strings (one per beer), sorted as described above.\n",
    "\n",
    "The start of your result array should look like this:\n",
    "\n",
    "```\n",
    "array(['A Fortnights Journey', 'Abbaye De Saint Bon-Chien Grand Cru (Aged In Cabernet Barrels)', ... ])\n",
    "```  \n",
    "\n",
    "<a href='#toc'>TOC</a>"
   ]
  },
  {
   "cell_type": "code",
   "execution_count": 12,
   "metadata": {
    "deletable": false,
    "editable": false,
    "nbgrader": {
     "cell_type": "code",
     "checksum": "7e760946e603b885aec1e0a244fcd411",
     "grade": true,
     "grade_id": "cell-7fe9315ded9bc583",
     "locked": true,
     "points": 0,
     "schema_version": 3,
     "solution": false,
     "task": false
    }
   },
   "outputs": [],
   "source": [
    "# something to say\n",
    "task_id = \"1b\""
   ]
  },
  {
   "cell_type": "code",
   "execution_count": 13,
   "metadata": {
    "deletable": false,
    "nbgrader": {
     "cell_type": "code",
     "checksum": "25e7b09d0871f75b7f81df505c7cad3c",
     "grade": false,
     "grade_id": "cell-90fb207abac68538",
     "locked": false,
     "schema_version": 3,
     "solution": true
    }
   },
   "outputs": [],
   "source": [
    "def answer_pca_b():\n",
    "\n",
    "    res = df[['beer_name', 'review_overall']]\n",
    "    res = res.groupby(['beer_name']).mean().reset_index()\n",
    "    res = res.sort_values(by=['review_overall', 'beer_name'], ascending=[False, True])\n",
    "    res = res[res['review_overall'] == res['review_overall'].max()]['beer_name'][:10].values\n",
    "\n",
    "    return res"
   ]
  },
  {
   "cell_type": "code",
   "execution_count": 14,
   "metadata": {},
   "outputs": [
    {
     "data": {
      "text/plain": [
       "array(['A Fortnights Journey',\n",
       "       'Abbaye De Saint Bon-Chien Grand Cru (Aged In Cabernet Barrels)',\n",
       "       'Aecht Schlenkerla Eiche', 'AleSmith Speedway Stout - Oak Aged',\n",
       "       'Andechser Bergbock Hell', 'Apollo', 'Aud Blonde',\n",
       "       'Augustiner Bräu Märzen Bier',\n",
       "       \"Bell's Bourbon Barrel Aged Double Cream Stout\",\n",
       "       'Belle Vue Sélection Lambic'], dtype=object)"
      ]
     },
     "execution_count": 14,
     "metadata": {},
     "output_type": "execute_result"
    }
   ],
   "source": [
    "# use this cell to explore your solution\n",
    "# remember to comment the function call before submitting the notebook\n",
    "\n",
    "answer_pca_b()"
   ]
  },
  {
   "cell_type": "code",
   "execution_count": 15,
   "metadata": {
    "deletable": false,
    "editable": false,
    "nbgrader": {
     "cell_type": "code",
     "checksum": "eabe4ed372dec8aebea510b53848ea71",
     "grade": true,
     "grade_id": "cell-df7842d81626ec70",
     "locked": true,
     "points": 10,
     "schema_version": 3,
     "solution": false
    }
   },
   "outputs": [
    {
     "name": "stdout",
     "output_type": "stream",
     "text": [
      "Task 1b - AG tests\n",
      "Task 1b - your answer: ['A Fortnights Journey'\n",
      " 'Abbaye De Saint Bon-Chien Grand Cru (Aged In Cabernet Barrels)'\n",
      " 'Aecht Schlenkerla Eiche' 'AleSmith Speedway Stout - Oak Aged'\n",
      " 'Andechser Bergbock Hell' 'Apollo' 'Aud Blonde'\n",
      " 'Augustiner Bräu Märzen Bier'\n",
      " \"Bell's Bourbon Barrel Aged Double Cream Stout\"\n",
      " 'Belle Vue Sélection Lambic']\n"
     ]
    }
   ],
   "source": [
    "print(f\"Task {task_id} - AG tests\")\n",
    "stu_ans = answer_pca_b()\n",
    "\n",
    "print(f\"Task {task_id} - your answer: {stu_ans}\")\n",
    "\n",
    "assert isinstance(\n",
    "    stu_ans, np.ndarray\n",
    "), \"Task 1b: Your function should return an np.ndarray. \"\n",
    "\n",
    "assert len(stu_ans) == 10, \"Task 1b: Your array should have ten strings (beer names).\"\n",
    "\n",
    "# Some hidden tests\n",
    "\n",
    "del stu_ans"
   ]
  },
  {
   "cell_type": "markdown",
   "metadata": {
    "deletable": false,
    "editable": false,
    "nbgrader": {
     "cell_type": "markdown",
     "checksum": "0c7a249a0ea18dd3e92ae3e8ddd6086f",
     "grade": false,
     "grade_id": "cell-fa77b41a467a89a8",
     "locked": true,
     "schema_version": 3,
     "solution": false
    }
   },
   "source": [
    "<a id='t1c'></a>\n",
    "### Task 1c - Use PCA to obtain Principal Components (5 points).\n",
    "\n",
    "Now run PCA on the dataset computed in 1.a: the entire original dataset, normalized and averaged after applying StandardScaler. This includes all of the beers, not just the top 10. The goal is to find the the first three (3) principal components.\n",
    "\n",
    "Your function should return a scikit-learn PCA object that's been fit to the normalized beer data.  \n",
    "\n",
    "*Note: your PCA function call should set random_state=0*  \n",
    "\n",
    "<a href='#toc'>TOC</a>"
   ]
  },
  {
   "cell_type": "code",
   "execution_count": 16,
   "metadata": {
    "deletable": false,
    "editable": false,
    "nbgrader": {
     "cell_type": "code",
     "checksum": "5366563d4a1bad9f9396140ed66b270d",
     "grade": true,
     "grade_id": "cell-123a5ba30d7e3cd8",
     "locked": true,
     "points": 0,
     "schema_version": 3,
     "solution": false,
     "task": false
    }
   },
   "outputs": [],
   "source": [
    "# Nothing to see here, move along.\n",
    "task_id = \"1c\""
   ]
  },
  {
   "cell_type": "code",
   "execution_count": 17,
   "metadata": {
    "deletable": false,
    "nbgrader": {
     "cell_type": "code",
     "checksum": "caad97b8a8ab707167771410a9af0d92",
     "grade": false,
     "grade_id": "cell-f5353de4afd88c0d",
     "locked": false,
     "schema_version": 3,
     "solution": true
    }
   },
   "outputs": [],
   "source": [
    "from sklearn.decomposition import PCA\n",
    "\n",
    "\n",
    "def answer_pca_c():\n",
    "    df = answer_pca_a()\n",
    "    pca = PCA(n_components=3, random_state=0)\n",
    "    pca.fit(df)\n",
    "    result= pca\n",
    "\n",
    "\n",
    "    return result"
   ]
  },
  {
   "cell_type": "code",
   "execution_count": 18,
   "metadata": {},
   "outputs": [
    {
     "data": {
      "text/html": [
       "<style>#sk-container-id-1 {color: black;background-color: white;}#sk-container-id-1 pre{padding: 0;}#sk-container-id-1 div.sk-toggleable {background-color: white;}#sk-container-id-1 label.sk-toggleable__label {cursor: pointer;display: block;width: 100%;margin-bottom: 0;padding: 0.3em;box-sizing: border-box;text-align: center;}#sk-container-id-1 label.sk-toggleable__label-arrow:before {content: \"▸\";float: left;margin-right: 0.25em;color: #696969;}#sk-container-id-1 label.sk-toggleable__label-arrow:hover:before {color: black;}#sk-container-id-1 div.sk-estimator:hover label.sk-toggleable__label-arrow:before {color: black;}#sk-container-id-1 div.sk-toggleable__content {max-height: 0;max-width: 0;overflow: hidden;text-align: left;background-color: #f0f8ff;}#sk-container-id-1 div.sk-toggleable__content pre {margin: 0.2em;color: black;border-radius: 0.25em;background-color: #f0f8ff;}#sk-container-id-1 input.sk-toggleable__control:checked~div.sk-toggleable__content {max-height: 200px;max-width: 100%;overflow: auto;}#sk-container-id-1 input.sk-toggleable__control:checked~label.sk-toggleable__label-arrow:before {content: \"▾\";}#sk-container-id-1 div.sk-estimator input.sk-toggleable__control:checked~label.sk-toggleable__label {background-color: #d4ebff;}#sk-container-id-1 div.sk-label input.sk-toggleable__control:checked~label.sk-toggleable__label {background-color: #d4ebff;}#sk-container-id-1 input.sk-hidden--visually {border: 0;clip: rect(1px 1px 1px 1px);clip: rect(1px, 1px, 1px, 1px);height: 1px;margin: -1px;overflow: hidden;padding: 0;position: absolute;width: 1px;}#sk-container-id-1 div.sk-estimator {font-family: monospace;background-color: #f0f8ff;border: 1px dotted black;border-radius: 0.25em;box-sizing: border-box;margin-bottom: 0.5em;}#sk-container-id-1 div.sk-estimator:hover {background-color: #d4ebff;}#sk-container-id-1 div.sk-parallel-item::after {content: \"\";width: 100%;border-bottom: 1px solid gray;flex-grow: 1;}#sk-container-id-1 div.sk-label:hover label.sk-toggleable__label {background-color: #d4ebff;}#sk-container-id-1 div.sk-serial::before {content: \"\";position: absolute;border-left: 1px solid gray;box-sizing: border-box;top: 0;bottom: 0;left: 50%;z-index: 0;}#sk-container-id-1 div.sk-serial {display: flex;flex-direction: column;align-items: center;background-color: white;padding-right: 0.2em;padding-left: 0.2em;position: relative;}#sk-container-id-1 div.sk-item {position: relative;z-index: 1;}#sk-container-id-1 div.sk-parallel {display: flex;align-items: stretch;justify-content: center;background-color: white;position: relative;}#sk-container-id-1 div.sk-item::before, #sk-container-id-1 div.sk-parallel-item::before {content: \"\";position: absolute;border-left: 1px solid gray;box-sizing: border-box;top: 0;bottom: 0;left: 50%;z-index: -1;}#sk-container-id-1 div.sk-parallel-item {display: flex;flex-direction: column;z-index: 1;position: relative;background-color: white;}#sk-container-id-1 div.sk-parallel-item:first-child::after {align-self: flex-end;width: 50%;}#sk-container-id-1 div.sk-parallel-item:last-child::after {align-self: flex-start;width: 50%;}#sk-container-id-1 div.sk-parallel-item:only-child::after {width: 0;}#sk-container-id-1 div.sk-dashed-wrapped {border: 1px dashed gray;margin: 0 0.4em 0.5em 0.4em;box-sizing: border-box;padding-bottom: 0.4em;background-color: white;}#sk-container-id-1 div.sk-label label {font-family: monospace;font-weight: bold;display: inline-block;line-height: 1.2em;}#sk-container-id-1 div.sk-label-container {text-align: center;}#sk-container-id-1 div.sk-container {/* jupyter's `normalize.less` sets `[hidden] { display: none; }` but bootstrap.min.css set `[hidden] { display: none !important; }` so we also need the `!important` here to be able to override the default hidden behavior on the sphinx rendered scikit-learn.org. See: https://github.com/scikit-learn/scikit-learn/issues/21755 */display: inline-block !important;position: relative;}#sk-container-id-1 div.sk-text-repr-fallback {display: none;}</style><div id=\"sk-container-id-1\" class=\"sk-top-container\"><div class=\"sk-text-repr-fallback\"><pre>PCA(n_components=3, random_state=0)</pre><b>In a Jupyter environment, please rerun this cell to show the HTML representation or trust the notebook. <br />On GitHub, the HTML representation is unable to render, please try loading this page with nbviewer.org.</b></div><div class=\"sk-container\" hidden><div class=\"sk-item\"><div class=\"sk-estimator sk-toggleable\"><input class=\"sk-toggleable__control sk-hidden--visually\" id=\"sk-estimator-id-1\" type=\"checkbox\" checked><label for=\"sk-estimator-id-1\" class=\"sk-toggleable__label sk-toggleable__label-arrow\">PCA</label><div class=\"sk-toggleable__content\"><pre>PCA(n_components=3, random_state=0)</pre></div></div></div></div></div>"
      ],
      "text/plain": [
       "PCA(n_components=3, random_state=0)"
      ]
     },
     "execution_count": 18,
     "metadata": {},
     "output_type": "execute_result"
    }
   ],
   "source": [
    "# use this cell to explore your solution\n",
    "# remember to comment the function call before submitting the notebook\n",
    "\n",
    "answer_pca_c()"
   ]
  },
  {
   "cell_type": "code",
   "execution_count": 19,
   "metadata": {},
   "outputs": [
    {
     "data": {
      "text/plain": [
       "array([[-0.401, -0.448, -0.457, -0.476, -0.45 ],\n",
       "       [ 0.846,  0.077, -0.114, -0.254, -0.447],\n",
       "       [-0.261,  0.82 , -0.381,  0.114, -0.319]])"
      ]
     },
     "execution_count": 19,
     "metadata": {},
     "output_type": "execute_result"
    }
   ],
   "source": [
    "answer_pca_c().components_"
   ]
  },
  {
   "cell_type": "code",
   "execution_count": 20,
   "metadata": {
    "deletable": false,
    "editable": false,
    "nbgrader": {
     "cell_type": "code",
     "checksum": "c4deda79a726d384dab13c2904d265d2",
     "grade": true,
     "grade_id": "cell-29e903cbfa6d20ce",
     "locked": true,
     "points": 5,
     "schema_version": 3,
     "solution": false
    }
   },
   "outputs": [
    {
     "name": "stdout",
     "output_type": "stream",
     "text": [
      "Task 1c - AG tests\n",
      "Task 1c - your answer:\n",
      "PCA(n_components=3, random_state=0)\n"
     ]
    }
   ],
   "source": [
    "print(f\"Task {task_id} - AG tests\")\n",
    "stu_ans = answer_pca_c()\n",
    "\n",
    "print(f\"Task {task_id} - your answer:\\n{stu_ans}\")\n",
    "\n",
    "\n",
    "assert isinstance(stu_ans, PCA), \"Task 1c: Your function should return a PCA object. \"\n",
    "\n",
    "assert (\n",
    "    stu_ans.n_components == 3\n",
    "), \"Task 1c: Your PCA object should be set to produce 3 components. \"\n",
    "assert stu_ans.components_.shape == (\n",
    "    3,\n",
    "    5,\n",
    "), \"Task 1c: Your PCA fit on the grouped data should have produced 5 columns (one for each of the review_ features).\"\n",
    "\n",
    "# Some hidden tests\n",
    "\n",
    "del stu_ans"
   ]
  },
  {
   "cell_type": "markdown",
   "metadata": {
    "deletable": false,
    "editable": false,
    "nbgrader": {
     "cell_type": "markdown",
     "checksum": "fd6f86b28d063bbbd0b20b099253625a",
     "grade": false,
     "grade_id": "cell-203c80f56b2752e7",
     "locked": true,
     "schema_version": 3,
     "solution": false
    }
   },
   "source": [
    "<a id='t1d'></a>\n",
    "### Task 1d - Compute the variance of each Principal Component (5 points). \n",
    "\n",
    "When looking at the linear algebra basis for PCA, we saw that PCA is equivalent to the SVD of the centered data matrix $X^*$. We also saw how the eigenvalues of the $(n-1)S$ matrix, where $S$ is the correlation matrix, are the variances associated with the PCs. Thus you can compute the variances of the PCs by taking the squares of the singular values of X*, then dividing by n−1. Using this formula, compute the variances corresponding to the three PCs you computed above and return this result as a numpy array. These variances are useful for, among other things, helping to determine the optimal number of principal components to select for your application.  \n",
    "\n",
    "<a href='#toc'>TOC</a>"
   ]
  },
  {
   "cell_type": "code",
   "execution_count": 21,
   "metadata": {
    "deletable": false,
    "editable": false,
    "nbgrader": {
     "cell_type": "code",
     "checksum": "bc8412378dc5218e1a1660c1274b615d",
     "grade": true,
     "grade_id": "cell-ac696441cca9ba7a",
     "locked": true,
     "points": 0,
     "schema_version": 3,
     "solution": false,
     "task": false
    }
   },
   "outputs": [],
   "source": [
    "task_id = \"1d\"\n",
    "# hidden autograder codeblock"
   ]
  },
  {
   "cell_type": "code",
   "execution_count": 22,
   "metadata": {
    "deletable": false,
    "nbgrader": {
     "cell_type": "code",
     "checksum": "2f3512f426e169326252e9f02441d595",
     "grade": false,
     "grade_id": "cell-02f17d8d2d0d5d1c",
     "locked": false,
     "schema_version": 3,
     "solution": true
    }
   },
   "outputs": [],
   "source": [
    "def answer_pca_d():\n",
    "\n",
    "    df = answer_pca_a()\n",
    "    pca = answer_pca_c()\n",
    "    result = np.power(pca.singular_values_, 2) / (answer_pca_a().shape[0] - 1)\n",
    "#     result = pca.explained_variance_\n",
    "    return result"
   ]
  },
  {
   "cell_type": "code",
   "execution_count": 23,
   "metadata": {},
   "outputs": [
    {
     "data": {
      "text/plain": [
       "array([3.835, 0.486, 0.311])"
      ]
     },
     "execution_count": 23,
     "metadata": {},
     "output_type": "execute_result"
    }
   ],
   "source": [
    "# use this cell to explore your solution\n",
    "# remember to comment the function call before submitting the notebook\n",
    "\n",
    "answer_pca_d()"
   ]
  },
  {
   "cell_type": "code",
   "execution_count": 24,
   "metadata": {
    "deletable": false,
    "editable": false,
    "nbgrader": {
     "cell_type": "code",
     "checksum": "51cac074bff9936ba65125f44119230f",
     "grade": true,
     "grade_id": "cell-396c670939e3436d",
     "locked": true,
     "points": 5,
     "schema_version": 3,
     "solution": false
    }
   },
   "outputs": [
    {
     "name": "stdout",
     "output_type": "stream",
     "text": [
      "Task 1d - AG tests\n",
      "Task 1d - your answer:\n",
      "[3.835 0.486 0.311]\n"
     ]
    }
   ],
   "source": [
    "print(f\"Task {task_id} - AG tests\")\n",
    "stu_ans = answer_pca_d()\n",
    "\n",
    "print(f\"Task {task_id} - your answer:\\n{stu_ans}\")\n",
    "\n",
    "assert isinstance(\n",
    "    stu_ans, np.ndarray\n",
    "), \"Task 1d: Your function should return an np.ndarray. \"\n",
    "\n",
    "assert stu_ans.shape == (\n",
    "    3,\n",
    "), \"Task 1d: Your array should have 3 variances, one per principal component.\"\n",
    "\n",
    "# Some hidden tests\n",
    "\n",
    "del stu_ans"
   ]
  },
  {
   "cell_type": "markdown",
   "metadata": {
    "deletable": false,
    "editable": false,
    "nbgrader": {
     "cell_type": "markdown",
     "checksum": "cbbe3a35db427bd72fac7aa8a1a88c08",
     "grade": false,
     "grade_id": "cell-22e02293eeaaac4d",
     "locked": true,
     "schema_version": 3,
     "solution": false
    }
   },
   "source": [
    "<a id='t1e'></a>\n",
    "### Task 1e - Exploring the Principal components (6 points).\n",
    "Now it's time to look more closely at the principal component loadings and what they can tell us about the dataset. First, to start interpreting each loading, find the name of the variable/feature that has the highest *absolute value* for *each* PC (in the order returned by PCA). (Recall that there are always two equivalent solutions for each PC that are flipped by sign - hence we ignore the sign.) \n",
    "\n",
    "To help verify your results, you can use the provided heatmap plotting routine to visualize the results of your PC. \n",
    "\n",
    "Your function should return a *tuple* of three variable names - one for each of the first 3 PCs.  \n",
    "\n",
    "<a href='#toc'>TOC</a>"
   ]
  },
  {
   "cell_type": "code",
   "execution_count": 25,
   "metadata": {
    "deletable": false,
    "editable": false,
    "nbgrader": {
     "cell_type": "code",
     "checksum": "bb8df2edb6da8750df9caaf19af5b9c1",
     "grade": false,
     "grade_id": "cell-ecf4f7c988cda9e8",
     "locked": true,
     "schema_version": 3,
     "solution": false,
     "task": false
    }
   },
   "outputs": [],
   "source": [
    "def plot_pca_heatmap(pca, feature_names):\n",
    "    pc_names = [\"First PC\", \"Second PC\", \"Third PC\"]\n",
    "    fig, ax = plt.subplots(figsize=(8, 6))\n",
    "\n",
    "    plt.imshow(pca.components_, interpolation=\"none\", cmap=\"plasma\")\n",
    "    plt.xticks(np.arange(0, 5, 1), feature_names, rotation=75, fontsize=16)\n",
    "    plt.yticks(np.arange(0.0, 3, 1), pc_names, fontsize=16)\n",
    "    plt.colorbar()\n",
    "    plt.tight_layout()\n",
    "\n",
    "    return"
   ]
  },
  {
   "cell_type": "code",
   "execution_count": 26,
   "metadata": {},
   "outputs": [
    {
     "data": {
      "text/plain": [
       "array([[-0.401, -0.448, -0.457, -0.476, -0.45 ],\n",
       "       [ 0.846,  0.077, -0.114, -0.254, -0.447],\n",
       "       [-0.261,  0.82 , -0.381,  0.114, -0.319]])"
      ]
     },
     "execution_count": 26,
     "metadata": {},
     "output_type": "execute_result"
    }
   ],
   "source": [
    "answer_pca_c().components_"
   ]
  },
  {
   "cell_type": "code",
   "execution_count": 27,
   "metadata": {},
   "outputs": [
    {
     "data": {
      "image/png": "[encoded data removed]",
      "text/plain": [
       "<Figure size 576x432 with 2 Axes>"
      ]
     },
     "metadata": {
      "needs_background": "light"
     },
     "output_type": "display_data"
    }
   ],
   "source": [
    "# Uncomment this code to generate the pca heatmap using your previous answers\n",
    "# remember to comment before submitting to the autograder\n",
    "\n",
    "plot_pca_heatmap(answer_pca_c(), feature_names)"
   ]
  },
  {
   "cell_type": "code",
   "execution_count": 28,
   "metadata": {
    "deletable": false,
    "editable": false,
    "nbgrader": {
     "cell_type": "code",
     "checksum": "4527a78dfe3f84a7f2e630b8c33840a1",
     "grade": true,
     "grade_id": "cell-f6969bb167583ac0",
     "locked": true,
     "points": 0,
     "schema_version": 3,
     "solution": false,
     "task": false
    }
   },
   "outputs": [],
   "source": [
    "# hidden autograder codeblock\n",
    "task_id = \"1e\""
   ]
  },
  {
   "cell_type": "code",
   "execution_count": 29,
   "metadata": {
    "deletable": false,
    "nbgrader": {
     "cell_type": "code",
     "checksum": "1f9e699b61ee94b56ac4bc6ecbb695b3",
     "grade": false,
     "grade_id": "cell-bba8c2a136310cb5",
     "locked": false,
     "schema_version": 3,
     "solution": true
    }
   },
   "outputs": [],
   "source": [
    "# def answer_pca_e():\n",
    "#     result = None\n",
    "\n",
    "#     # YOUR CODE HERE\n",
    "# #     raise NotImplementedError()\n",
    "#     result = ('review_taste', 'review_appearance','review_aroma')\n",
    "\n",
    "#     return result"
   ]
  },
  {
   "cell_type": "code",
   "execution_count": 30,
   "metadata": {},
   "outputs": [],
   "source": [
    "def answer_pca_e():\n",
    "    pca = answer_pca_c()\n",
    "    components = pca.components_\n",
    "    \n",
    "    feature_names = [\n",
    "        \"review_appearance\",\n",
    "        \"review_aroma\",\n",
    "        \"review_palate\",\n",
    "        \"review_taste\",\n",
    "        \"review_overall\",\n",
    "    ]\n",
    "    \n",
    "    top_features = []\n",
    "    for i in range(components.shape[0]):\n",
    "        top_feature_index = np.argmax(np.abs(components[i]))\n",
    "        top_features.append(feature_names[top_feature_index])\n",
    "    \n",
    "    return tuple(top_features)"
   ]
  },
  {
   "cell_type": "code",
   "execution_count": 31,
   "metadata": {},
   "outputs": [
    {
     "data": {
      "text/plain": [
       "('review_taste', 'review_appearance', 'review_aroma')"
      ]
     },
     "execution_count": 31,
     "metadata": {},
     "output_type": "execute_result"
    }
   ],
   "source": [
    "# use this cell to explore your solution\n",
    "# remember to comment the function call before submitting the notebook\n",
    "\n",
    "answer_pca_e()"
   ]
  },
  {
   "cell_type": "code",
   "execution_count": 32,
   "metadata": {
    "deletable": false,
    "editable": false,
    "nbgrader": {
     "cell_type": "code",
     "checksum": "7ec5398b756c6661cb6c27e0d76fd616",
     "grade": true,
     "grade_id": "cell-fae16003c24d8883",
     "locked": true,
     "points": 6,
     "schema_version": 3,
     "solution": false
    }
   },
   "outputs": [
    {
     "name": "stdout",
     "output_type": "stream",
     "text": [
      "Task 1e - AG tests\n",
      "Task 1e - your answer:\n",
      "('review_taste', 'review_appearance', 'review_aroma')\n"
     ]
    }
   ],
   "source": [
    "print(f\"Task {task_id} - AG tests\")\n",
    "stu_ans = answer_pca_e()\n",
    "\n",
    "print(f\"Task {task_id} - your answer:\\n{stu_ans}\")\n",
    "\n",
    "assert isinstance(\n",
    "    stu_ans, tuple\n",
    "), \"Task 1e: Your function should return a tuple of three strings.\"\n",
    "\n",
    "# Some hidden tests\n",
    "\n",
    "del stu_ans"
   ]
  },
  {
   "cell_type": "markdown",
   "metadata": {
    "deletable": false,
    "editable": false,
    "nbgrader": {
     "cell_type": "markdown",
     "checksum": "b6470009a2b321c096f1544aafcff14d",
     "grade": false,
     "grade_id": "cell-1221baf8b863fc25",
     "locked": true,
     "schema_version": 3,
     "solution": false
    }
   },
   "source": [
    "### Biplot creation function."
   ]
  },
  {
   "cell_type": "code",
   "execution_count": 33,
   "metadata": {
    "deletable": false,
    "editable": false,
    "nbgrader": {
     "cell_type": "code",
     "checksum": "bda496af9bd70720504cfbdb118b655a",
     "grade": false,
     "grade_id": "cell-2f2ab2328f31aea8",
     "locked": true,
     "schema_version": 3,
     "solution": false,
     "task": false
    }
   },
   "outputs": [],
   "source": [
    "def biplot(score, coeff, maxdim, pcax, pcay, labels=None):\n",
    "    \"\"\"Routine to generate a high-quality biplot\"\"\"\n",
    "\n",
    "    pca1 = pcax - 1\n",
    "    pca2 = pcay - 1\n",
    "    xs = score[:, pca1]\n",
    "    ys = score[:, pca2]\n",
    "    n = min(coeff.shape[0], maxdim)\n",
    "    scalex = 2.0 / (xs.max() - xs.min())\n",
    "    scaley = 2.0 / (ys.max() - ys.min())\n",
    "    text_scale_factor = 1.5\n",
    "\n",
    "    plt.figure(figsize=(10, 9))\n",
    "    plt.scatter(xs * scalex, ys * scaley, s=1)\n",
    "\n",
    "    for i in range(n):\n",
    "        plt.arrow(0, 0, coeff[i, pca1], coeff[i, pca2], color=\"r\", alpha=0.5)\n",
    "        if labels is None:\n",
    "            plt.text(\n",
    "                coeff[i, pca1] * text_scale_factor,\n",
    "                coeff[i, pca2] * text_scale_factor,\n",
    "                \"Var\" + str(i + 1),\n",
    "                color=\"g\",\n",
    "                ha=\"center\",\n",
    "                va=\"center\",\n",
    "            )\n",
    "        else:\n",
    "            plt.text(\n",
    "                coeff[i, pca1] * text_scale_factor,\n",
    "                coeff[i, pca2],\n",
    "                labels[i],\n",
    "                color=\"g\",\n",
    "                ha=\"center\",\n",
    "                va=\"center\",\n",
    "            )\n",
    "    plt.xlim(-1, 1)\n",
    "    plt.ylim(-1, 1)\n",
    "    plt.xlabel(\"PC{}\".format(pcax))\n",
    "    plt.ylabel(\"PC{}\".format(pcay))\n",
    "    plt.grid()\n",
    "    plt.tight_layout()\n",
    "\n",
    "    return\n",
    "\n",
    "\n",
    "def make_biplot():\n",
    "    X_beer_normalized = answer_pca_a()\n",
    "    pca = answer_pca_c()\n",
    "    X_beer_pca = pca.transform(X_beer_normalized)\n",
    "    biplot(\n",
    "        X_beer_pca, np.transpose(pca.components_[0:2, :]), 5, 1, 2, labels=feature_names\n",
    "    )\n",
    "\n",
    "    return"
   ]
  },
  {
   "cell_type": "markdown",
   "metadata": {
    "deletable": false,
    "editable": false,
    "nbgrader": {
     "cell_type": "markdown",
     "checksum": "5cca1b66c4b569f61414366e63d27e47",
     "grade": false,
     "grade_id": "cell-cb94c443739cf753",
     "locked": true,
     "schema_version": 3,
     "solution": false,
     "task": false
    }
   },
   "source": [
    "<a id='t1f'></a>\n",
    "### Task 1f - Biplot interpretation (4 points).\n",
    "\n",
    "Biplots are a very useful tool for simultaneously exploring a dataset and the correlation structure of its variables.  Run the provided biplot routine on the results of your PCA to answer the following questions.\n",
    "\n",
    "1. Which variable is most correlated with PC 1?  Put the name of this variable in the first element of a list. (We'll accept either of two possible answers)\n",
    "\n",
    "2. Which variable is most correlated with PC 2?  Put the name of this variable in the second element of a list.\n",
    "\n",
    "3. Which variable has a higher correlation with review_aroma: review_palate, or review_taste?\n",
    "\n",
    "4. Which variable has close to zero correlation with review_overall?\n",
    "\n",
    "\n",
    "Place your answers (each of which will be a variable name starting with review_ ...) in a single tuple as strings, in the order of the questions above. Thus, your function should return a tuple of 4 strings containing your answers.  \n",
    "\n",
    "<a href='#toc'>TOC</a>"
   ]
  },
  {
   "cell_type": "code",
   "execution_count": 34,
   "metadata": {},
   "outputs": [
    {
     "data": {
      "image/png": "[encoded data removed]",
      "text/plain": [
       "<Figure size 720x648 with 1 Axes>"
      ]
     },
     "metadata": {
      "needs_background": "light"
     },
     "output_type": "display_data"
    }
   ],
   "source": [
    "# Uncomment this code to generate the pca Biplot using your previous answers\n",
    "# remember to comment the following line before submitting\n",
    "\n",
    "make_biplot()"
   ]
  },
  {
   "cell_type": "code",
   "execution_count": 35,
   "metadata": {
    "deletable": false,
    "editable": false,
    "nbgrader": {
     "cell_type": "code",
     "checksum": "7782c5374df726edaf3d229e6c0a436e",
     "grade": true,
     "grade_id": "cell-87673d73ca6ed39f",
     "locked": true,
     "points": 0,
     "schema_version": 3,
     "solution": false,
     "task": false
    }
   },
   "outputs": [],
   "source": [
    "# hidden autograder codeblock\n",
    "task_id = \"1f\""
   ]
  },
  {
   "cell_type": "code",
   "execution_count": 36,
   "metadata": {
    "deletable": false,
    "nbgrader": {
     "cell_type": "code",
     "checksum": "b358fb12a6aa6e08f9fb35059dc5b6f5",
     "grade": false,
     "grade_id": "cell-a8c22df1236cd837",
     "locked": false,
     "schema_version": 3,
     "solution": true
    }
   },
   "outputs": [],
   "source": [
    "def answer_pca_f():\n",
    "\n",
    "    result = None\n",
    "\n",
    "    # YOUR CODE HERE\n",
    "#     raise NotImplementedError()\n",
    "    result = ('review_aroma','review_appearance','review_palate','review_appearance')\n",
    "\n",
    "    return result"
   ]
  },
  {
   "cell_type": "code",
   "execution_count": 37,
   "metadata": {},
   "outputs": [],
   "source": [
    "# use this cell to explore your solution\n",
    "# remember to comment the function call before submitting the notebook\n",
    "\n",
    "# answer_pca_f()"
   ]
  },
  {
   "cell_type": "code",
   "execution_count": 38,
   "metadata": {
    "deletable": false,
    "editable": false,
    "nbgrader": {
     "cell_type": "code",
     "checksum": "26b793662a9b4f83b39242591d45ed85",
     "grade": true,
     "grade_id": "cell-a997471ea1641151",
     "locked": true,
     "points": 4,
     "schema_version": 3,
     "solution": false
    }
   },
   "outputs": [
    {
     "name": "stdout",
     "output_type": "stream",
     "text": [
      "Task 1f - AG tests\n",
      "Task 1f - your answer:\n",
      "('review_aroma', 'review_appearance', 'review_palate', 'review_appearance')\n"
     ]
    }
   ],
   "source": [
    "print(f\"Task {task_id} - AG tests\")\n",
    "stu_ans = answer_pca_f()\n",
    "\n",
    "print(f\"Task {task_id} - your answer:\\n{stu_ans}\")\n",
    "\n",
    "assert isinstance(stu_ans, tuple), \"Task 1f: Your function should return a tuple. \"\n",
    "assert (\n",
    "    len(stu_ans) == 4\n",
    "), \"Task 1f: Your tuple should have four strings containing your answers to the four questions, in order. \"\n",
    "\n",
    "# Some hidden tests\n",
    "\n",
    "del stu_ans"
   ]
  },
  {
   "cell_type": "markdown",
   "metadata": {
    "deletable": false,
    "editable": false,
    "nbgrader": {
     "cell_type": "markdown",
     "checksum": "afb83b95d50ebc4e4019906d88078e3a",
     "grade": false,
     "grade_id": "cell-2b7b7035430b1711",
     "locked": true,
     "schema_version": 3,
     "solution": false
    }
   },
   "source": [
    "<a id='Topic2'></a>\n",
    "## Topic 2 - UMAP to find outliers in the beer dataset (15 points).\n",
    "In this two-part question we're going to look at outlier detection - a widely-used application of unsupervised learning. The goal will be to find individual examples or groups of beers with unusual combinations of attribute review scores relative to an \"average\" beer in the dataset. To do that you'll apply the UMAP algorithm mentioned in the manifold learning lecture, combined with the Local Outlier Factor algorithm in scikit-learn. Details are in the next two parts below. We've provided all the utility routines you'll need for plotting and interpreting the outliers. The UMAP library is not part of scikit-learn but you should have it preinstalled in the online environment. \n",
    "\n",
    "Details on UMAP, including how to install locally, at: https://umap-learn.readthedocs.io/en/latest/  \n",
    "\n",
    "<a href='#toc'>TOC</a>"
   ]
  },
  {
   "cell_type": "markdown",
   "metadata": {
    "deletable": false,
    "editable": false,
    "nbgrader": {
     "cell_type": "markdown",
     "checksum": "f2cef208f3eb1b7886b52e3d99b6dc96",
     "grade": false,
     "grade_id": "cell-813e157b60180f2a",
     "locked": true,
     "schema_version": 3,
     "solution": false
    }
   },
   "source": [
    "### The following plot routines will be helpful to you in visualizing and interpreting your results."
   ]
  },
  {
   "cell_type": "code",
   "execution_count": 39,
   "metadata": {
    "deletable": false,
    "editable": false,
    "nbgrader": {
     "cell_type": "code",
     "checksum": "49fef334ed7bd5fa491f4e3942909acd",
     "grade": false,
     "grade_id": "cell-5ff5985de3568f1e",
     "locked": true,
     "schema_version": 3,
     "solution": false,
     "task": false
    }
   },
   "outputs": [],
   "source": [
    "# plot a labelled scatterplot\n",
    "def scatter_text(x, y, text_column, color=None):\n",
    "\n",
    "    fig = plt.gcf()\n",
    "    fig.set_size_inches(10, 10)\n",
    "\n",
    "    # Set title and 0axis labels\n",
    "    # plt.title(title)\n",
    "    # plt.xlabel(xlabel)\n",
    "    # plt.ylabel(ylabel)\n",
    "    # Create the scatter plot\n",
    "    p1 = sns.scatterplot(x=x, y=y, size=32, legend=False)\n",
    "\n",
    "    # Add text besides each point\n",
    "    for line in range(0, x.shape[0]):\n",
    "        p1.text(\n",
    "            x=x[line],\n",
    "            y=y[line],\n",
    "            s=text_column[line],\n",
    "            horizontalalignment=\"left\",\n",
    "            color=color,\n",
    "            size=10,\n",
    "            weight=\"light\",  # \"semibold\",\n",
    "        )\n",
    "\n",
    "    return\n",
    "\n",
    "\n",
    "# randomly jitter the input points\n",
    "def rand_jitter(arr):\n",
    "    stdev = 0.03 * (max(arr) - min(arr))\n",
    "    jittered_array = arr + np.random.randn(len(arr)) * stdev\n",
    "    return jittered_array\n",
    "\n",
    "\n",
    "# Given a reference vector of feature values, compares the given outlier vector\n",
    "# against the corresponding reference values and prints a summary of any differences.\n",
    "\n",
    "\n",
    "def interpret_component(reference, outlier, label, name, index):\n",
    "    epsilon = 0.5\n",
    "    if outlier[index] > reference[index] + epsilon:\n",
    "        print(\n",
    "            \"{} has a much higher {} rating ({:2f}).\".format(\n",
    "                label, name, outlier[index]\n",
    "            )\n",
    "        )\n",
    "    else:\n",
    "        if outlier[index] < reference[index] - epsilon:\n",
    "            print(\n",
    "                \"{} has a much lower {} rating ({:2f}).\".format(\n",
    "                    label, name, outlier[index]\n",
    "                )\n",
    "            )\n",
    "\n",
    "    return\n",
    "\n",
    "\n",
    "def print_outlier_interpretation(reference, outlier, label):\n",
    "    #'review_appearance', 'review_aroma', 'review_palate', 'review_taste', 'review_overall']\n",
    "    interpret_component(reference, outlier, label, \"appearance\", 0)\n",
    "    interpret_component(reference, outlier, label, \"aroma\", 1)\n",
    "    interpret_component(reference, outlier, label, \"palate\", 2)\n",
    "    interpret_component(reference, outlier, label, \"taste\", 3)\n",
    "    interpret_component(reference, outlier, label, \"overall\", 4)\n",
    "\n",
    "    return\n",
    "\n",
    "\n",
    "def compute_outlier_component_label(reference, outlier, index, base_label):\n",
    "    epsilon = 0.5\n",
    "    if outlier[index] > reference[index] + epsilon:\n",
    "        return \"+{} \".format(base_label)\n",
    "    if outlier[index] < reference[index] - epsilon:\n",
    "        return \"-{} \".format(base_label)\n",
    "\n",
    "    return \"\"\n",
    "\n",
    "\n",
    "def compute_outlier_label(reference, outlier):\n",
    "    epsilon = 0.5\n",
    "    label = \"\"\n",
    "    label = label + compute_outlier_component_label(reference, outlier, 0, \"appearance\")\n",
    "    label = label + compute_outlier_component_label(reference, outlier, 1, \"aroma\")\n",
    "    label = label + compute_outlier_component_label(reference, outlier, 2, \"palate\")\n",
    "    label = label + compute_outlier_component_label(reference, outlier, 3, \"taste\")\n",
    "    label = label + compute_outlier_component_label(reference, outlier, 4, \"overall\")\n",
    "    if label == \"\":\n",
    "        label = \"average\"\n",
    "\n",
    "    return label"
   ]
  },
  {
   "cell_type": "markdown",
   "metadata": {
    "deletable": false,
    "editable": false,
    "nbgrader": {
     "cell_type": "markdown",
     "checksum": "0abb650605107b699e280f63071e45c4",
     "grade": false,
     "grade_id": "cell-606e29abf64ca2e2",
     "locked": true,
     "schema_version": 3,
     "solution": false
    }
   },
   "source": [
    "<a id='t2a'></a>\n",
    "### Task 2a - Using UMAP to perform dimensionality reduction and neighborhood analysis on the grouped, normalized beer dataset (5 points). \n",
    "\n",
    "You create an instance of a UMAP object as follows:\n",
    "\n",
    "`import umap`\n",
    "\n",
    "`umap_obj = umap.UMAP(*..your parameters here..*)`\n",
    "\n",
    "NOTE: use the UMAP parameters *set_op_mix_ratio=0.15, random_state = 0*.  (The somewhat magical set_op_mix_ratio parameter controls how much local vs global information UMAP uses to optimize its solution. When we look for outliers, we want to preserve some global distance structure in the solution. See the UMAP paper in the references for more details.)\n",
    "\n",
    "To prepare the input for the UMAP `fit` method, do the following steps:\n",
    "\n",
    "1. Start with the X_beer_normalized result you computed for Question 1. \n",
    "2. Take the first *200* rows of this result (for performance reasons) and pass this to the UMAP fit method.\n",
    "\n",
    "Your function should simply return the UMAP object after it's been fit using these grouped, normalized beer scores as input.  \n",
    "\n",
    "<a href='#toc'>TOC</a>"
   ]
  },
  {
   "cell_type": "code",
   "execution_count": 40,
   "metadata": {
    "deletable": false,
    "editable": false,
    "nbgrader": {
     "cell_type": "code",
     "checksum": "72dbc721da143c4ba315e102e52f1bf3",
     "grade": true,
     "grade_id": "cell-8f02172df16e8c05",
     "locked": true,
     "points": 0,
     "schema_version": 3,
     "solution": false,
     "task": false
    }
   },
   "outputs": [],
   "source": [
    "# hidden autograder codeblock\n",
    "task_id = \"2a\""
   ]
  },
  {
   "cell_type": "code",
   "execution_count": 41,
   "metadata": {
    "deletable": false,
    "nbgrader": {
     "cell_type": "code",
     "checksum": "f4c2fdb0a4b6f836e492c856b0cf8482",
     "grade": false,
     "grade_id": "cell-def7f87dc1ee7921",
     "locked": false,
     "schema_version": 3,
     "solution": true
    }
   },
   "outputs": [],
   "source": [
    "import umap\n",
    "\n",
    "\n",
    "def answer_outlier_a():\n",
    "    reducer = umap.UMAP(set_op_mix_ratio=0.15, random_state=0)\n",
    "    result = reducer.fit(answer_pca_a()[:200,:])\n",
    "    return result"
   ]
  },
  {
   "cell_type": "code",
   "execution_count": 42,
   "metadata": {},
   "outputs": [
    {
     "data": {
      "text/html": [
       "<style>#sk-container-id-2 {color: black;background-color: white;}#sk-container-id-2 pre{padding: 0;}#sk-container-id-2 div.sk-toggleable {background-color: white;}#sk-container-id-2 label.sk-toggleable__label {cursor: pointer;display: block;width: 100%;margin-bottom: 0;padding: 0.3em;box-sizing: border-box;text-align: center;}#sk-container-id-2 label.sk-toggleable__label-arrow:before {content: \"▸\";float: left;margin-right: 0.25em;color: #696969;}#sk-container-id-2 label.sk-toggleable__label-arrow:hover:before {color: black;}#sk-container-id-2 div.sk-estimator:hover label.sk-toggleable__label-arrow:before {color: black;}#sk-container-id-2 div.sk-toggleable__content {max-height: 0;max-width: 0;overflow: hidden;text-align: left;background-color: #f0f8ff;}#sk-container-id-2 div.sk-toggleable__content pre {margin: 0.2em;color: black;border-radius: 0.25em;background-color: #f0f8ff;}#sk-container-id-2 input.sk-toggleable__control:checked~div.sk-toggleable__content {max-height: 200px;max-width: 100%;overflow: auto;}#sk-container-id-2 input.sk-toggleable__control:checked~label.sk-toggleable__label-arrow:before {content: \"▾\";}#sk-container-id-2 div.sk-estimator input.sk-toggleable__control:checked~label.sk-toggleable__label {background-color: #d4ebff;}#sk-container-id-2 div.sk-label input.sk-toggleable__control:checked~label.sk-toggleable__label {background-color: #d4ebff;}#sk-container-id-2 input.sk-hidden--visually {border: 0;clip: rect(1px 1px 1px 1px);clip: rect(1px, 1px, 1px, 1px);height: 1px;margin: -1px;overflow: hidden;padding: 0;position: absolute;width: 1px;}#sk-container-id-2 div.sk-estimator {font-family: monospace;background-color: #f0f8ff;border: 1px dotted black;border-radius: 0.25em;box-sizing: border-box;margin-bottom: 0.5em;}#sk-container-id-2 div.sk-estimator:hover {background-color: #d4ebff;}#sk-container-id-2 div.sk-parallel-item::after {content: \"\";width: 100%;border-bottom: 1px solid gray;flex-grow: 1;}#sk-container-id-2 div.sk-label:hover label.sk-toggleable__label {background-color: #d4ebff;}#sk-container-id-2 div.sk-serial::before {content: \"\";position: absolute;border-left: 1px solid gray;box-sizing: border-box;top: 0;bottom: 0;left: 50%;z-index: 0;}#sk-container-id-2 div.sk-serial {display: flex;flex-direction: column;align-items: center;background-color: white;padding-right: 0.2em;padding-left: 0.2em;position: relative;}#sk-container-id-2 div.sk-item {position: relative;z-index: 1;}#sk-container-id-2 div.sk-parallel {display: flex;align-items: stretch;justify-content: center;background-color: white;position: relative;}#sk-container-id-2 div.sk-item::before, #sk-container-id-2 div.sk-parallel-item::before {content: \"\";position: absolute;border-left: 1px solid gray;box-sizing: border-box;top: 0;bottom: 0;left: 50%;z-index: -1;}#sk-container-id-2 div.sk-parallel-item {display: flex;flex-direction: column;z-index: 1;position: relative;background-color: white;}#sk-container-id-2 div.sk-parallel-item:first-child::after {align-self: flex-end;width: 50%;}#sk-container-id-2 div.sk-parallel-item:last-child::after {align-self: flex-start;width: 50%;}#sk-container-id-2 div.sk-parallel-item:only-child::after {width: 0;}#sk-container-id-2 div.sk-dashed-wrapped {border: 1px dashed gray;margin: 0 0.4em 0.5em 0.4em;box-sizing: border-box;padding-bottom: 0.4em;background-color: white;}#sk-container-id-2 div.sk-label label {font-family: monospace;font-weight: bold;display: inline-block;line-height: 1.2em;}#sk-container-id-2 div.sk-label-container {text-align: center;}#sk-container-id-2 div.sk-container {/* jupyter's `normalize.less` sets `[hidden] { display: none; }` but bootstrap.min.css set `[hidden] { display: none !important; }` so we also need the `!important` here to be able to override the default hidden behavior on the sphinx rendered scikit-learn.org. See: https://github.com/scikit-learn/scikit-learn/issues/21755 */display: inline-block !important;position: relative;}#sk-container-id-2 div.sk-text-repr-fallback {display: none;}</style><div id=\"sk-container-id-2\" class=\"sk-top-container\"><div class=\"sk-text-repr-fallback\"><pre>UMAP(random_state=0, set_op_mix_ratio=0.15, tqdm_kwds={&#x27;bar_format&#x27;: &#x27;{desc}: {percentage:3.0f}%| {bar} {n_fmt}/{total_fmt} [{elapsed}]&#x27;, &#x27;desc&#x27;: &#x27;Epochs completed&#x27;, &#x27;disable&#x27;: True})</pre><b>In a Jupyter environment, please rerun this cell to show the HTML representation or trust the notebook. <br />On GitHub, the HTML representation is unable to render, please try loading this page with nbviewer.org.</b></div><div class=\"sk-container\" hidden><div class=\"sk-item\"><div class=\"sk-estimator sk-toggleable\"><input class=\"sk-toggleable__control sk-hidden--visually\" id=\"sk-estimator-id-2\" type=\"checkbox\" checked><label for=\"sk-estimator-id-2\" class=\"sk-toggleable__label sk-toggleable__label-arrow\">UMAP</label><div class=\"sk-toggleable__content\"><pre>UMAP(random_state=0, set_op_mix_ratio=0.15, tqdm_kwds={&#x27;bar_format&#x27;: &#x27;{desc}: {percentage:3.0f}%| {bar} {n_fmt}/{total_fmt} [{elapsed}]&#x27;, &#x27;desc&#x27;: &#x27;Epochs completed&#x27;, &#x27;disable&#x27;: True})</pre></div></div></div></div></div>"
      ],
      "text/plain": [
       "UMAP(random_state=0, set_op_mix_ratio=0.15, tqdm_kwds={'bar_format': '{desc}: {percentage:3.0f}%| {bar} {n_fmt}/{total_fmt} [{elapsed}]', 'desc': 'Epochs completed', 'disable': True})"
      ]
     },
     "execution_count": 42,
     "metadata": {},
     "output_type": "execute_result"
    }
   ],
   "source": [
    "# use this cell to explore your solution\n",
    "# remember to comment the function call before submitting the notebook\n",
    "\n",
    "answer_outlier_a()"
   ]
  },
  {
   "cell_type": "code",
   "execution_count": 43,
   "metadata": {
    "deletable": false,
    "editable": false,
    "nbgrader": {
     "cell_type": "code",
     "checksum": "83c995297d0ef0e3ed7bf7e0e3b4225f",
     "grade": true,
     "grade_id": "cell-f63cc2baaa2a46af",
     "locked": true,
     "points": 5,
     "schema_version": 3,
     "solution": false
    }
   },
   "outputs": [
    {
     "name": "stdout",
     "output_type": "stream",
     "text": [
      "Task 2a - AG tests\n",
      "Task 2a - your answer:\n",
      "UMAP(random_state=0, set_op_mix_ratio=0.15, tqdm_kwds={'bar_format': '{desc}: {percentage:3.0f}%| {bar} {n_fmt}/{total_fmt} [{elapsed}]', 'desc': 'Epochs completed', 'disable': True})\n"
     ]
    }
   ],
   "source": [
    "print(f\"Task {task_id} - AG tests\")\n",
    "stu_ans = answer_outlier_a()\n",
    "\n",
    "print(f\"Task {task_id} - your answer:\\n{stu_ans}\")\n",
    "\n",
    "assert isinstance(\n",
    "    stu_ans, umap.UMAP\n",
    "), \"Task 2a: Your function should return a umap.UMAP object. \"\n",
    "\n",
    "assert stu_ans.embedding_.shape == (\n",
    "    200,\n",
    "    2,\n",
    "), \"Task 2a: Your fitted UMAP object should have an embedding_ property of shape (200, 2).\"\n",
    "\n",
    "# Some hidden tests\n",
    "\n",
    "del stu_ans"
   ]
  },
  {
   "cell_type": "markdown",
   "metadata": {
    "deletable": false,
    "editable": false,
    "nbgrader": {
     "cell_type": "markdown",
     "checksum": "8fd5b7cff762694909e6efc9d6f6e003",
     "grade": false,
     "grade_id": "cell-b25a76e8890f9cad",
     "locked": true,
     "schema_version": 3,
     "solution": false
    }
   },
   "source": [
    "<a id='t2b'></a>\n",
    "### Task 2b - Find outliers using the Local Outlier Factor (LOF) algorithm (10 points).\n",
    "\n",
    "The Local Outlier Factor (LOF) algorithm is an unsupervised learning method that does outlier detection, which means finding unusual points within a given dataset that are apart in some sense from other points in the same dataset. We applied UMAP first in order to reduce the dimensionality of the problem to just two dimensions, because the LOF algorithm searches the neighborhood of each point, which is a much more expensive operation in higher dimensions.\n",
    "\n",
    "The LOF algorithm works by computing the local density deviation of a given data point with respect to its neighbors. An outlier group is a group of samples that have much lower density than their neighbors. \n",
    "\n",
    "Note that outlier detection is *different* from novelty detection, which tries to *predict* outliers when given *new* data instances not in the training set. You can LOF for novelty detection but that's beyond the scope of this assignment.\n",
    "\n",
    "The LOF parameter n_neighbors is \"typically set 1) greater than the minimum number of samples a cluster has to contain, so that other samples can be local outliers relative to this cluster, and 2) smaller than the maximum number of close by samples that can potentially be local outliers. In practice, such information is generally not available, and taking n_neighbors=20 appears to work well in general.\"\n",
    "\n",
    "For this problem, when creating the LOF object *set n_neighbors = 10*.  The input to the LOF fit method is the embedding generated by UMAP.\n",
    "\n",
    "After fitting, the LOF class computes an output array `negative_outlier_factor_` as an attribute of the class which scores each input instance: values that are large-magnitude negative numbers are considered outliers within the fit data, while points with a negative outlier score close to -1 are considering \"inliers\" or points that have lots of nearby points and are thus not outliers.\n",
    "\n",
    "Your function should return the row indices to the top 20 *outliers* according to the negative_outlier_factor_ scores, sorted by ascending value from lowest to highest score. \n",
    "\n",
    "For fun you can take your results and run them through our interpretation code to plot them and show why they're considered outliers (see below). The plot will show how the outliers group together by shared +/- qualities.  \n",
    "\n",
    "<a href='#toc'>TOC</a>"
   ]
  },
  {
   "cell_type": "code",
   "execution_count": 44,
   "metadata": {
    "deletable": false,
    "editable": false,
    "nbgrader": {
     "cell_type": "code",
     "checksum": "10372b6ab113a72b89e874d784e395a6",
     "grade": true,
     "grade_id": "cell-abe510c6dedbca3a",
     "locked": true,
     "points": 0,
     "schema_version": 3,
     "solution": false,
     "task": false
    }
   },
   "outputs": [],
   "source": [
    "# hidden autograder codeblock\n",
    "task_id = \"2b\""
   ]
  },
  {
   "cell_type": "code",
   "execution_count": 45,
   "metadata": {
    "deletable": false,
    "nbgrader": {
     "cell_type": "code",
     "checksum": "d819fee29eaaa175564d8a353fbe8b96",
     "grade": false,
     "grade_id": "cell-7d603443c2e8f141",
     "locked": false,
     "schema_version": 3,
     "solution": true
    }
   },
   "outputs": [],
   "source": [
    "def answer_outlier_b():\n",
    "    result = None\n",
    "    \n",
    "    from sklearn.neighbors import LocalOutlierFactor\n",
    "    import umap\n",
    "    \n",
    "    embedding = answer_outlier_a().transform(answer_pca_a()[:200,:])\n",
    "    clf = LocalOutlierFactor(n_neighbors=10)\n",
    "    y_pred = clf.fit(embedding)\n",
    "    scores = clf.negative_outlier_factor_\n",
    "    sorted_indices = np.argsort(scores)\n",
    "    top_20 = sorted_indices[:20]\n",
    "\n",
    "    return top_20"
   ]
  },
  {
   "cell_type": "code",
   "execution_count": 46,
   "metadata": {},
   "outputs": [
    {
     "data": {
      "text/plain": [
       "array([ 60, 181, 156, 147, 199,   8,  57,  41, 143, 149,  39, 127, 195,\n",
       "       115,  15,   7,  69, 167,  56,  28])"
      ]
     },
     "execution_count": 46,
     "metadata": {},
     "output_type": "execute_result"
    }
   ],
   "source": [
    "# use this cell to explore your solution\n",
    "# remember to comment the function call before submitting the notebook\n",
    "\n",
    "answer_outlier_b()"
   ]
  },
  {
   "cell_type": "code",
   "execution_count": 47,
   "metadata": {
    "deletable": false,
    "editable": false,
    "nbgrader": {
     "cell_type": "code",
     "checksum": "8ed1ade97e3e049c7f00310993627a4f",
     "grade": true,
     "grade_id": "cell-04f28232936208be",
     "locked": true,
     "points": 10,
     "schema_version": 3,
     "solution": false
    }
   },
   "outputs": [
    {
     "name": "stdout",
     "output_type": "stream",
     "text": [
      "Task 2b - AG tests\n",
      "Task 2b - your answer:\n",
      "[ 60 181 156 147 199   8  57  41 143 149  39 127 195 115  15   7  69 167\n",
      "  56  28]\n"
     ]
    }
   ],
   "source": [
    "print(f\"Task {task_id} - AG tests\")\n",
    "stu_ans = answer_outlier_b()\n",
    "\n",
    "print(f\"Task {task_id} - your answer:\\n{stu_ans}\")\n",
    "\n",
    "assert isinstance(\n",
    "    stu_ans, np.ndarray\n",
    "), \"Task 2b: Your function should return an np.ndarray. \"\n",
    "\n",
    "assert stu_ans.shape == (20,), \"Task 2b: Your array should have 20 elements.\"\n",
    "\n",
    "# Some hidden tests\n",
    "\n",
    "del stu_ans"
   ]
  },
  {
   "cell_type": "markdown",
   "metadata": {
    "deletable": false,
    "editable": false,
    "nbgrader": {
     "cell_type": "markdown",
     "checksum": "37ede6282a6c43d0b6e81795cd973689",
     "grade": false,
     "grade_id": "cell-264050b937394304",
     "locked": true,
     "schema_version": 3,
     "solution": false
    }
   },
   "source": [
    "<a id='t2b1'></a>\n",
    "### Beer Outlier plot\n",
    "The following code will plot beer outliers from your previous code for your interpretation of the results.  \n",
    "\n",
    "<a href='#toc'>TOC</a>"
   ]
  },
  {
   "cell_type": "code",
   "execution_count": 48,
   "metadata": {
    "deletable": false,
    "editable": false,
    "nbgrader": {
     "cell_type": "code",
     "checksum": "5a34505ef096812ecef408a0bb1cc58d",
     "grade": false,
     "grade_id": "cell-86cc64558c5186e8",
     "locked": true,
     "schema_version": 3,
     "solution": false,
     "task": false
    }
   },
   "outputs": [],
   "source": [
    "def plot_beer_outliers(show_detail=True):\n",
    "\n",
    "    umap_obj = answer_outlier_a()\n",
    "    outlier_list = answer_outlier_b()\n",
    "    pca_a_solution = answer_pca_a()\n",
    "    X_beer_normalized_subsample = pca_a_solution[0:200]\n",
    "\n",
    "    X_beer_dimred = umap_obj.transform(X_beer_normalized_subsample)\n",
    "\n",
    "    # Reconstitute the correct beer names of the grouped data\n",
    "    raw_feature_names = [\n",
    "        \"beer_name\",\n",
    "        \"review_appearance\",\n",
    "        \"review_aroma\",\n",
    "        \"review_palate\",\n",
    "        \"review_taste\",\n",
    "        \"review_overall\",\n",
    "    ]\n",
    "\n",
    "    df_group = df[raw_feature_names].groupby(\"beer_name\").mean()\n",
    "    beer_names = np.array(df_group.index)[0:200]\n",
    "\n",
    "    # create the interpretation labels for the selected beers\n",
    "    mean_zero = np.array([0, 0, 0, 0, 0])\n",
    "    beer_labels = beer_names\n",
    "\n",
    "    scatter_text(\n",
    "        rand_jitter(X_beer_dimred[outlier_list, 0]),\n",
    "        rand_jitter(X_beer_dimred[outlier_list, 1]),\n",
    "        beer_labels[outlier_list],\n",
    "        \"black\",\n",
    "    )\n",
    "    plt.show()\n",
    "\n",
    "    if show_detail:\n",
    "        for outlier in outlier_list:\n",
    "            beer_labels[outlier] = (\n",
    "                beer_labels[outlier]\n",
    "                + \":\"\n",
    "                + compute_outlier_label(mean_zero, X_beer_normalized_subsample[outlier])\n",
    "            )\n",
    "            print_outlier_interpretation(\n",
    "                mean_zero, X_beer_normalized_subsample[outlier], beer_names[outlier]\n",
    "            )\n",
    "\n",
    "    return"
   ]
  },
  {
   "cell_type": "code",
   "execution_count": 49,
   "metadata": {},
   "outputs": [
    {
     "data": {
      "image/png": "[encoded data removed]",
      "text/plain": [
       "<Figure size 720x720 with 1 Axes>"
      ]
     },
     "metadata": {
      "needs_background": "light"
     },
     "output_type": "display_data"
    },
    {
     "name": "stdout",
     "output_type": "stream",
     "text": [
      "25 Dodici:-appearance -aroma -palate  has a much lower appearance rating (-1.794591).\n",
      "25 Dodici:-appearance -aroma -palate  has a much lower aroma rating (-0.962426).\n",
      "25 Dodici:-appearance -aroma -palate  has a much lower palate rating (-0.618333).\n",
      "AleSmith Grand Cru Ale:+appearance +aroma +taste  has a much higher appearance rating (0.590276).\n",
      "AleSmith Grand Cru Ale:+appearance +aroma +taste  has a much higher aroma rating (0.874628).\n",
      "AleSmith Grand Cru Ale:+appearance +aroma +taste  has a much higher taste rating (0.680404).\n",
      "Aecht Schlenkerla Rauchbier Märzen:+aroma +palate +taste  has a much higher aroma rating (1.022962).\n",
      "Aecht Schlenkerla Rauchbier Märzen:+aroma +palate +taste  has a much higher palate rating (0.509417).\n",
      "Aecht Schlenkerla Rauchbier Märzen:+aroma +palate +taste  has a much higher taste rating (0.658757).\n",
      "Adnams Explorer:-appearance -aroma -palate -taste  has a much lower appearance rating (-1.335963).\n",
      "Adnams Explorer:-appearance -aroma -palate -taste  has a much lower aroma rating (-1.361786).\n",
      "Adnams Explorer:-appearance -aroma -palate -taste  has a much lower palate rating (-1.449307).\n",
      "Adnams Explorer:-appearance -aroma -palate -taste  has a much lower taste rating (-0.607636).\n",
      "Alfa:-appearance -aroma -taste  has a much lower appearance rating (-2.253219).\n",
      "Alfa:-appearance -aroma -taste  has a much lower aroma rating (-0.962426).\n",
      "Alfa:-appearance -aroma -taste  has a much lower taste rating (-0.986471).\n",
      "'t Gaverhopke Zingende Blondine:-appearance +aroma +palate +taste  has a much lower appearance rating (-1.335963).\n",
      "'t Gaverhopke Zingende Blondine:-appearance +aroma +palate +taste  has a much higher aroma rating (1.433732).\n",
      "'t Gaverhopke Zingende Blondine:-appearance +aroma +palate +taste  has a much higher palate rating (0.628127).\n",
      "'t Gaverhopke Zingende Blondine:-appearance +aroma +palate +taste  has a much higher taste rating (1.286541).\n",
      "20th Anniversary Wit:-appearance +aroma +palate +taste  has a much lower appearance rating (-2.253219).\n",
      "20th Anniversary Wit:-appearance +aroma +palate +taste  has a much higher aroma rating (1.433732).\n",
      "20th Anniversary Wit:-appearance +aroma +palate +taste  has a much higher palate rating (0.628127).\n",
      "20th Anniversary Wit:-appearance +aroma +palate +taste  has a much higher taste rating (1.286541).\n",
      "186,000 MPS:-appearance +aroma +palate +taste  has a much lower appearance rating (-1.335963).\n",
      "186,000 MPS:-appearance +aroma +palate +taste  has a much higher aroma rating (0.635012).\n",
      "186,000 MPS:-appearance +aroma +palate +taste  has a much higher palate rating (0.628127).\n",
      "186,000 MPS:-appearance +aroma +palate +taste  has a much higher taste rating (0.528870).\n",
      "Adnams Belgian Abbey Ale:-appearance +aroma +palate +taste +overall  has a much lower appearance rating (-1.335963).\n",
      "Adnams Belgian Abbey Ale:-appearance +aroma +palate +taste +overall  has a much higher aroma rating (0.635012).\n",
      "Adnams Belgian Abbey Ale:-appearance +aroma +palate +taste +overall  has a much higher palate rating (1.459101).\n",
      "Adnams Belgian Abbey Ale:-appearance +aroma +palate +taste +overall  has a much higher taste rating (0.528870).\n",
      "Adnams Belgian Abbey Ale:-appearance +aroma +palate +taste +overall  has a much higher overall rating (1.227305).\n",
      "Adnams Innovation:-appearance +aroma +palate +taste +overall  has a much lower appearance rating (-1.335963).\n",
      "Adnams Innovation:-appearance +aroma +palate +taste +overall  has a much higher aroma rating (0.635012).\n",
      "Adnams Innovation:-appearance +aroma +palate +taste +overall  has a much higher palate rating (0.628127).\n",
      "Adnams Innovation:-appearance +aroma +palate +taste +overall  has a much higher taste rating (0.528870).\n",
      "Adnams Innovation:-appearance +aroma +palate +taste +overall  has a much higher overall rating (1.227305).\n",
      "1812 India Pale Ale:-appearance +palate  has a much lower appearance rating (-1.335963).\n",
      "1812 India Pale Ale:-appearance +palate  has a much higher palate rating (0.628127).\n",
      "Abbey Normal:+palate +taste  has a much higher palate rating (1.459101).\n",
      "Abbey Normal:+palate +taste  has a much higher taste rating (0.528870).\n",
      "Alexander Keith's Dark Ale:-aroma -palate -taste -overall  has a much lower aroma rating (-0.696187).\n",
      "Alexander Keith's Dark Ale:-aroma -palate -taste -overall  has a much lower palate rating (-1.587802).\n",
      "Alexander Keith's Dark Ale:-aroma -palate -taste -overall  has a much lower taste rating (-1.491585).\n",
      "Alexander Keith's Dark Ale:-aroma -palate -taste -overall  has a much lower overall rating (-1.372197).\n",
      "Abbaye De Forest:+palate +taste  has a much higher palate rating (1.459101).\n",
      "Abbaye De Forest:+palate +taste  has a much higher taste rating (0.528870).\n",
      "'t Smisje Great Reserva:+appearance +palate  has a much higher appearance rating (1.415806).\n",
      "'t Smisje Great Reserva:+appearance +palate  has a much higher palate rating (1.459101).\n",
      "'t Gaverhopke Extra:-appearance  has a much lower appearance rating (-0.571582).\n",
      "3 Ravens Dark:-appearance -palate  has a much lower appearance rating (-1.335963).\n",
      "3 Ravens Dark:-appearance -palate  has a much lower palate rating (-1.033820).\n",
      "Ahtanumous IPA:+aroma +palate +taste  has a much higher aroma rating (1.433732).\n",
      "Ahtanumous IPA:+aroma +palate +taste  has a much higher palate rating (0.628127).\n",
      "Ahtanumous IPA:+aroma +palate +taste  has a much higher taste rating (0.528870).\n",
      "20th Anniversary Rorschach One:+appearance +aroma +palate +taste  has a much higher appearance rating (1.415806).\n",
      "20th Anniversary Rorschach One:+appearance +aroma +palate +taste  has a much higher aroma rating (0.635012).\n",
      "20th Anniversary Rorschach One:+appearance +aroma +palate +taste  has a much higher palate rating (1.459101).\n",
      "20th Anniversary Rorschach One:+appearance +aroma +palate +taste  has a much higher taste rating (0.528870).\n",
      "110K+OT Batch #2 - I.R.I.S. - Barrel Aged:+appearance +aroma +palate +taste  has a much higher appearance rating (1.415806).\n",
      "110K+OT Batch #2 - I.R.I.S. - Barrel Aged:+appearance +aroma +palate +taste  has a much higher aroma rating (0.555140).\n",
      "110K+OT Batch #2 - I.R.I.S. - Barrel Aged:+appearance +aroma +palate +taste  has a much higher palate rating (0.877419).\n",
      "110K+OT Batch #2 - I.R.I.S. - Barrel Aged:+appearance +aroma +palate +taste  has a much higher taste rating (0.528870).\n"
     ]
    }
   ],
   "source": [
    "# Uncomment this code to generate the beer names plot using your previous answers\n",
    "# remember to recomment before submitting\n",
    "\n",
    "plot_beer_outliers(show_detail=True)"
   ]
  },
  {
   "cell_type": "markdown",
   "metadata": {
    "deletable": false,
    "editable": false,
    "nbgrader": {
     "cell_type": "markdown",
     "checksum": "f1aa18e194bc8308eb2436ad6c85dc44",
     "grade": false,
     "grade_id": "cell-1721101fe29f9fba",
     "locked": true,
     "schema_version": 3,
     "solution": false
    }
   },
   "source": [
    "<a id='Topic3'></a>\n",
    "## Topic 3 - Using t-SNE, PCA, MDS to explore a dataset (15 points).\n",
    "\n",
    "To get more insight into what properties of high-dimensional data are preserved, or not, with different manifold learning methods, we're going to apply several to a dataset with a variety of known cluster shapes. First, run the code below to create and plot this dataset. f \n",
    "\n",
    "<a href='#toc'>TOC</a>"
   ]
  },
  {
   "cell_type": "code",
   "execution_count": 50,
   "metadata": {
    "deletable": false,
    "editable": false,
    "nbgrader": {
     "cell_type": "code",
     "checksum": "96457ebe3cd12979fc96ae11f2ca3807",
     "grade": false,
     "grade_id": "cell-173a023727edad5b",
     "locked": true,
     "schema_version": 3,
     "solution": false,
     "task": false
    }
   },
   "outputs": [],
   "source": [
    "from sklearn import cluster, datasets\n",
    "from itertools import cycle, islice\n",
    "from sklearn.preprocessing import StandardScaler\n",
    "from sklearn.preprocessing import PolynomialFeatures\n",
    "\n",
    "# The goal of this routine is to create a dataset with\n",
    "# a variety of clusters with very different properties:\n",
    "# small and dense, large and sparse, crescent-derived, etc.\n",
    "def create_complex_labeled_clusters():\n",
    "\n",
    "    n_samples = 100\n",
    "    random_state = 42\n",
    "\n",
    "    # blobs with varied variances\n",
    "    X_blobs, y_blobs = datasets.make_blobs(\n",
    "        n_samples=n_samples,\n",
    "        centers=5,\n",
    "        n_features=2,\n",
    "        cluster_std=[1.0, 2.5, 0.2, 3.0, 3.0],\n",
    "        random_state=random_state,\n",
    "    )\n",
    "\n",
    "    X_moons, y_moons = datasets.make_moons(\n",
    "        n_samples=100, noise=0.1, random_state=random_state\n",
    "    )\n",
    "    X_moons = X_moons * 3 + [10, 10]\n",
    "    y_moons = y_moons + 5\n",
    "\n",
    "    X_raw = np.vstack((X_blobs, X_moons))\n",
    "    y = np.append(y_blobs, y_moons)\n",
    "\n",
    "    X_scaled = StandardScaler().fit(X_raw).transform(X_raw)\n",
    "\n",
    "    # now expand to a higher-dimensional space with a non-linear transformation just for good measure\n",
    "    poly = PolynomialFeatures(3, include_bias=False)\n",
    "\n",
    "    X = poly.fit_transform(X_scaled)\n",
    "\n",
    "    return (X, y)\n",
    "\n",
    "\n",
    "X, y = create_complex_labeled_clusters()\n",
    "\n",
    "colors = np.array(\n",
    "    list(\n",
    "        islice(\n",
    "            cycle(\n",
    "                [\n",
    "                    \"#377eb8\",\n",
    "                    \"#ff7f00\",\n",
    "                    \"#4daf4a\",\n",
    "                    \"#f781bf\",\n",
    "                    \"#a65628\",\n",
    "                    \"#984ea3\",\n",
    "                    \"#999999\",\n",
    "                    \"#e41a1c\",\n",
    "                    \"#dede00\",\n",
    "                ]\n",
    "            ),\n",
    "            int(max(y) + 1),\n",
    "        )\n",
    "    )\n",
    ")\n",
    "\n",
    "\n",
    "def plot_blobs():\n",
    "    fig, axes = plt.subplots(1, 2, figsize=(14, 6.5))\n",
    "    axes[0].scatter(X[:, 0], X[:, 1], s=10, color=colors[y])\n",
    "    axes[1].scatter(X[:, 2], X[:, 1], s=10, color=colors[y])\n",
    "    plt.tight_layout()\n",
    "    return\n",
    "\n",
    "\n",
    "def plot_blobs_old():\n",
    "    # one view\n",
    "    plt.figure(figsize=(8, 6))\n",
    "    plt.scatter(X[:, 0], X[:, 1], s=10, color=colors[y])\n",
    "    plt.show()\n",
    "\n",
    "    # another view\n",
    "    plt.figure(figsize=(8, 6))\n",
    "    plt.scatter(X[:, 2], X[:, 1], s=10, color=colors[y])\n",
    "    plt.show()\n",
    "    return"
   ]
  },
  {
   "cell_type": "markdown",
   "metadata": {},
   "source": [
    "<a id='t3bd'></a>\n",
    "### Plot blob data\n",
    "\n",
    "<a href='#toc'>TOC</a>"
   ]
  },
  {
   "cell_type": "code",
   "execution_count": 51,
   "metadata": {},
   "outputs": [
    {
     "data": {
      "image/png": "[encoded data removed]",
      "text/plain": [
       "<Figure size 1008x468 with 2 Axes>"
      ]
     },
     "metadata": {
      "needs_background": "light"
     },
     "output_type": "display_data"
    }
   ],
   "source": [
    "# Uncomment this code to generate the biplot using your previous answers\n",
    "# remember to recomment before submitting\n",
    "\n",
    "plot_blobs()"
   ]
  },
  {
   "cell_type": "markdown",
   "metadata": {
    "deletable": false,
    "editable": false,
    "nbgrader": {
     "cell_type": "markdown",
     "checksum": "fa6b3b1bdd197ef2ce7e81c7fa612c6b",
     "grade": false,
     "grade_id": "cell-f16631f42ef2611c",
     "locked": true,
     "schema_version": 3,
     "solution": false
    }
   },
   "source": [
    "<a id='t3a'></a>\n",
    "### Task 3a - Run dimensionality reduction methods on the data (10 points).\n",
    "\n",
    "Create PCA, t-SNE, and MDS objects with default parameters, fit them to the complex dataset *to output two (2) components*, and transform the complex clusters dataset into this 2-dimensional space.  \n",
    "*Note: wherever random_state is used, set random_state = 42*  \n",
    "*Note: for future compatibility the following TSNE parameters should be included:*\n",
    " - init=\"random\"  \n",
    " - learning_rate=200.0  \n",
    "[See the SciKit-Learn TSNE documentation for further information](https://scikit-learn.org/stable/modules/generated/sklearn.manifold.TSNE.html#sklearn.manifold.TSNE)\n",
    "    \n",
    "Your function should return a tuple (X_pca, X_tsne, X_mds) with the three versions of the original transformed, complex dataset, obtained by using fit_transform. Each transformed version should have the same number of rows as the input, but only two columns.  \n",
    "\n",
    "<a href='#toc'>TOC</a>"
   ]
  },
  {
   "cell_type": "code",
   "execution_count": 52,
   "metadata": {
    "deletable": false,
    "editable": false,
    "nbgrader": {
     "cell_type": "code",
     "checksum": "f709d77e2f3af5187805e58b12e1d05b",
     "grade": true,
     "grade_id": "cell-0d9c4b6ce9c83f6f",
     "locked": true,
     "points": 0,
     "schema_version": 3,
     "solution": false,
     "task": false
    }
   },
   "outputs": [],
   "source": [
    "# something to say\n",
    "task_id = \"3a\""
   ]
  },
  {
   "cell_type": "code",
   "execution_count": 53,
   "metadata": {
    "deletable": false,
    "nbgrader": {
     "cell_type": "code",
     "checksum": "53f729deb273f80084654b5f876bc400",
     "grade": false,
     "grade_id": "cell-b07da6b8149ec54b",
     "locked": false,
     "schema_version": 3,
     "solution": true
    }
   },
   "outputs": [],
   "source": [
    "def answer_manifold_a():\n",
    "    result = None\n",
    "\n",
    "    # YOUR CODE HERE\n",
    "    from sklearn.manifold import TSNE\n",
    "    from sklearn.manifold import MDS\n",
    "    from sklearn.decomposition import PCA\n",
    "    \n",
    "    # t-SNE parameters\n",
    "    init = \"random\"\n",
    "    learning_rate = 200.0\n",
    "    tsne = TSNE(init=init, learning_rate=learning_rate, random_state=42)\n",
    "    X_tsne = tsne.fit_transform(X)\n",
    "    \n",
    "    # MDS\n",
    "    mds = MDS(n_components=2, random_state=42)\n",
    "    X_mds = mds.fit_transform(X)\n",
    "    \n",
    "    # PCA\n",
    "    pca = PCA(n_components=2, random_state=42)\n",
    "    X_pca = pca.fit_transform(X)\n",
    "    \n",
    "    result = (X_pca, X_tsne, X_mds)\n",
    "\n",
    "\n",
    "    return result"
   ]
  },
  {
   "cell_type": "code",
   "execution_count": 54,
   "metadata": {},
   "outputs": [
    {
     "data": {
      "text/plain": [
       "(array([[15.397, -0.386],\n",
       "        [-1.871, -0.085],\n",
       "        [-1.716,  0.954],\n",
       "        [ 0.121,  0.235],\n",
       "        [-0.674,  4.289],\n",
       "        [17.423, -0.632],\n",
       "        [-0.219, -0.625],\n",
       "        [-0.693, -0.434],\n",
       "        [-1.818, -0.238],\n",
       "        [-1.718,  1.01 ],\n",
       "        [-1.726,  1.249],\n",
       "        [17.003, -0.605],\n",
       "        [ 1.237, -0.393],\n",
       "        [-1.743,  0.837],\n",
       "        [-1.818, -0.315],\n",
       "        [-1.309,  3.349],\n",
       "        [-1.777,  0.05 ],\n",
       "        [-1.578,  0.354],\n",
       "        [16.597, -0.443],\n",
       "        [-1.712,  1.06 ],\n",
       "        [-1.492,  2.424],\n",
       "        [-0.632, -0.681],\n",
       "        [-1.667,  0.682],\n",
       "        [16.213, -0.627],\n",
       "        [-0.755,  8.335],\n",
       "        [-0.976,  1.89 ],\n",
       "        [-0.106, -0.479],\n",
       "        [-0.344, -0.037],\n",
       "        [-1.721, -0.155],\n",
       "        [ 2.379, -1.203],\n",
       "        [16.477, -0.788],\n",
       "        [-1.543,  4.279],\n",
       "        [-0.683, -0.268],\n",
       "        [-1.446,  0.197],\n",
       "        [-1.18 ,  0.451],\n",
       "        [-0.607,  3.725],\n",
       "        [-1.772,  0.985],\n",
       "        [-1.874,  1.082],\n",
       "        [-1.743,  1.   ],\n",
       "        [-1.413, -0.249],\n",
       "        [17.164, -0.525],\n",
       "        [-1.293, -0.332],\n",
       "        [-1.692, -0.294],\n",
       "        [ 1.413, -0.775],\n",
       "        [-1.362,  4.086],\n",
       "        [-1.803,  0.585],\n",
       "        [-1.637,  1.357],\n",
       "        [17.621, -0.718],\n",
       "        [-1.215,  4.037],\n",
       "        [-1.88 , -0.259],\n",
       "        [-1.771, -0.036],\n",
       "        [-1.407, -0.413],\n",
       "        [-0.666, -0.5  ],\n",
       "        [17.327, -0.442],\n",
       "        [-1.673, -0.263],\n",
       "        [-0.667,  7.012],\n",
       "        [-1.827, -0.154],\n",
       "        [ 0.049, -0.548],\n",
       "        [-1.63 ,  1.096],\n",
       "        [-1.63 ,  1.475],\n",
       "        [-0.147, -0.503],\n",
       "        [-1.73 ,  1.189],\n",
       "        [-1.184,  8.319],\n",
       "        [17.869, -0.71 ],\n",
       "        [ 0.078, 11.167],\n",
       "        [15.302, -0.287],\n",
       "        [-1.54 , -0.248],\n",
       "        [-1.785, -0.177],\n",
       "        [16.685, -0.513],\n",
       "        [-2.254,  0.087],\n",
       "        [ 1.67 ,  8.852],\n",
       "        [16.221, -0.469],\n",
       "        [17.143, -0.324],\n",
       "        [16.615, -0.505],\n",
       "        [-0.773, -0.438],\n",
       "        [-2.059,  2.989],\n",
       "        [-0.599, -0.536],\n",
       "        [ 0.117, 10.841],\n",
       "        [-1.678, -0.103],\n",
       "        [17.57 , -0.927],\n",
       "        [-1.786, -0.202],\n",
       "        [16.864, -0.617],\n",
       "        [-0.54 ,  8.635],\n",
       "        [-1.83 , -0.271],\n",
       "        [-0.337,  2.415],\n",
       "        [-1.661,  0.691],\n",
       "        [-0.547,  9.26 ],\n",
       "        [-1.741,  0.533],\n",
       "        [-1.704,  1.32 ],\n",
       "        [-1.691,  0.749],\n",
       "        [-0.208,  7.28 ],\n",
       "        [-1.808,  0.998],\n",
       "        [16.642, -0.581],\n",
       "        [ 3.234, -1.362],\n",
       "        [17.332, -0.789],\n",
       "        [-1.81 ,  0.392],\n",
       "        [17.362, -0.517],\n",
       "        [-1.708,  0.784],\n",
       "        [-1.721, -0.359],\n",
       "        [-0.437, -0.434],\n",
       "        [-2.349, -1.961],\n",
       "        [-2.413, -0.657],\n",
       "        [-2.146, -1.058],\n",
       "        [-2.112, -0.338],\n",
       "        [-2.122, -0.385],\n",
       "        [-2.534, -0.378],\n",
       "        [-2.823, -0.704],\n",
       "        [-2.287, -1.696],\n",
       "        [-2.88 , -1.157],\n",
       "        [-2.307, -1.228],\n",
       "        [-2.884, -0.809],\n",
       "        [-2.795, -0.466],\n",
       "        [-2.188, -1.447],\n",
       "        [-2.692, -0.391],\n",
       "        [-2.862, -2.504],\n",
       "        [-2.65 , -1.436],\n",
       "        [-2.232, -1.412],\n",
       "        [-2.192, -1.379],\n",
       "        [-2.777, -0.939],\n",
       "        [-2.76 , -0.477],\n",
       "        [-2.21 , -0.619],\n",
       "        [-2.566, -2.346],\n",
       "        [-2.81 , -0.595],\n",
       "        [-2.192, -0.345],\n",
       "        [-2.186, -0.912],\n",
       "        [-3.033, -0.846],\n",
       "        [-2.272, -0.356],\n",
       "        [-2.887, -2.651],\n",
       "        [-2.7  , -1.1  ],\n",
       "        [-2.108, -1.065],\n",
       "        [-2.981, -1.171],\n",
       "        [-2.063, -0.343],\n",
       "        [-2.413, -2.2  ],\n",
       "        [-3.181, -0.48 ],\n",
       "        [-2.76 , -2.847],\n",
       "        [-2.556, -1.19 ],\n",
       "        [-2.07 , -0.792],\n",
       "        [-2.151, -0.84 ],\n",
       "        [-2.583, -0.393],\n",
       "        [-3.072, -0.919],\n",
       "        [-1.993, -0.348],\n",
       "        [-2.678, -0.423],\n",
       "        [-2.557, -1.12 ],\n",
       "        [-3.047, -2.73 ],\n",
       "        [-2.864, -0.496],\n",
       "        [-3.108, -0.754],\n",
       "        [-2.347, -1.891],\n",
       "        [-3.145, -0.611],\n",
       "        [-2.083, -0.768],\n",
       "        [-2.945, -0.928],\n",
       "        [-2.961, -0.524],\n",
       "        [-2.53 , -1.387],\n",
       "        [-2.869, -0.818],\n",
       "        [-2.468, -0.39 ],\n",
       "        [-2.794, -1.156],\n",
       "        [-2.323, -1.619],\n",
       "        [-2.617, -1.291],\n",
       "        [-2.061, -0.797],\n",
       "        [-2.513, -0.392],\n",
       "        [-2.542, -2.098],\n",
       "        [-2.206, -0.729],\n",
       "        [-3.316, -2.461],\n",
       "        [-2.515, -0.667],\n",
       "        [-2.222, -0.33 ],\n",
       "        [-2.459, -0.639],\n",
       "        [-2.127, -0.976],\n",
       "        [-2.047, -0.321],\n",
       "        [-2.175, -1.059],\n",
       "        [-2.142, -0.722],\n",
       "        [-3.237, -3.133],\n",
       "        [-2.263, -1.584],\n",
       "        [-2.26 , -0.376],\n",
       "        [-2.109, -0.713],\n",
       "        [-2.052, -0.355],\n",
       "        [-3.089, -2.589],\n",
       "        [-2.146, -0.645],\n",
       "        [-2.126, -1.103],\n",
       "        [-2.702, -0.467],\n",
       "        [-2.816, -2.652],\n",
       "        [-2.106, -0.64 ],\n",
       "        [-2.066, -0.725],\n",
       "        [-2.499, -2.023],\n",
       "        [-2.313, -0.378],\n",
       "        [-2.694, -0.516],\n",
       "        [-2.403, -1.195],\n",
       "        [-2.302, -0.626],\n",
       "        [-2.978, -0.705],\n",
       "        [-2.464, -1.489],\n",
       "        [-2.923, -0.592],\n",
       "        [-2.525, -2.109],\n",
       "        [-2.643, -2.108],\n",
       "        [-2.177, -1.207],\n",
       "        [-2.493, -2.093],\n",
       "        [-2.339, -1.757],\n",
       "        [-2.992, -0.841],\n",
       "        [-2.122, -0.714],\n",
       "        [-2.156, -1.223],\n",
       "        [-2.828, -0.922],\n",
       "        [-2.69 , -2.438],\n",
       "        [-2.4  , -0.612]]),\n",
       " array([[-16.657,   6.999],\n",
       "        [ -2.74 ,   2.706],\n",
       "        [ -2.668,   6.634],\n",
       "        [ -7.71 ,   2.676],\n",
       "        [ -3.193,  10.199],\n",
       "        [-15.369,   6.817],\n",
       "        [ -7.837,   0.661],\n",
       "        [ -7.011,   1.35 ],\n",
       "        [ -3.555,   1.79 ],\n",
       "        [ -2.516,   6.781],\n",
       "        [ -1.965,   7.428],\n",
       "        [-16.   ,   6.017],\n",
       "        [ -8.745,   1.805],\n",
       "        [ -2.288,   6.24 ],\n",
       "        [ -3.818,   1.211],\n",
       "        [ -2.669,   9.754],\n",
       "        [ -3.357,   3.285],\n",
       "        [ -3.705,   4.459],\n",
       "        [-16.244,   7.193],\n",
       "        [ -2.568,   6.949],\n",
       "        [ -2.575,   8.844],\n",
       "        [ -7.526,   0.217],\n",
       "        [ -3.278,   5.743],\n",
       "        [-16.598,   6.788],\n",
       "        [ -2.445,  12.16 ],\n",
       "        [ -3.769,   8.738],\n",
       "        [ -7.801,   1.518],\n",
       "        [ -7.432,   2.438],\n",
       "        [ -4.017,   2.501],\n",
       "        [ -9.658,   0.885],\n",
       "        [-16.463,   6.107],\n",
       "        [ -1.867,  10.06 ],\n",
       "        [ -6.966,   1.973],\n",
       "        [ -4.176,   3.931],\n",
       "        [ -4.391,   4.525],\n",
       "        [ -3.369,   9.948],\n",
       "        [ -1.777,   6.686],\n",
       "        [ -1.216,   7.263],\n",
       "        [ -2.041,   6.664],\n",
       "        [ -5.045,   2.067],\n",
       "        [-15.963,   5.882],\n",
       "        [ -5.543,   1.613],\n",
       "        [ -4.354,   1.5  ],\n",
       "        [ -8.973,   1.376],\n",
       "        [ -2.28 ,  10.087],\n",
       "        [ -2.122,   5.8  ],\n",
       "        [ -2.843,   7.492],\n",
       "        [-15.345,   6.613],\n",
       "        [ -2.622,  10.085],\n",
       "        [ -3.005,   1.639],\n",
       "        [ -3.51 ,   2.956],\n",
       "        [ -5.422,   1.074],\n",
       "        [ -7.182,   0.917],\n",
       "        [-15.679,   7.187],\n",
       "        [ -4.338,   1.801],\n",
       "        [ -2.707,  11.723],\n",
       "        [ -3.258,   2.378],\n",
       "        [ -8.011,   1.293],\n",
       "        [ -3.201,   6.911],\n",
       "        [ -2.656,   7.73 ],\n",
       "        [ -7.776,   1.376],\n",
       "        [ -2.018,   7.27 ],\n",
       "        [ -2.101,  12.184],\n",
       "        [-15.386,   6.399],\n",
       "        [ -2.853,  12.631],\n",
       "        [-16.748,   6.595],\n",
       "        [ -4.705,   2.035],\n",
       "        [ -3.651,   2.308],\n",
       "        [-16.028,   6.671],\n",
       "        [  3.376,  -2.287],\n",
       "        [ -3.412,  12.303],\n",
       "        [-16.599,   6.356],\n",
       "        [-15.904,   7.306],\n",
       "        [-16.254,   7.217],\n",
       "        [ -6.881,   1.246],\n",
       "        [ -1.397,   9.658],\n",
       "        [ -7.362,   0.748],\n",
       "        [ -2.902,  12.583],\n",
       "        [ -4.092,   2.765],\n",
       "        [-15.475,   6.193],\n",
       "        [ -3.715,   2.116],\n",
       "        [-15.983,   6.65 ],\n",
       "        [ -2.626,  12.207],\n",
       "        [ -3.597,   1.502],\n",
       "        [ -3.833,   9.222],\n",
       "        [ -3.312,   5.772],\n",
       "        [ -2.549,  12.344],\n",
       "        [ -2.854,   5.416],\n",
       "        [ -2.137,   7.559],\n",
       "        [ -3.093,   6.072],\n",
       "        [ -2.979,  11.831],\n",
       "        [ -1.511,   6.882],\n",
       "        [-16.36 ,   6.072],\n",
       "        [ -9.706,   0.873],\n",
       "        [-15.617,   6.012],\n",
       "        [ -2.437,   5.229],\n",
       "        [-15.532,   7.085],\n",
       "        [ -2.828,   6.135],\n",
       "        [ -4.384,   1.068],\n",
       "        [ -7.395,   1.54 ],\n",
       "        [  4.736, -13.61 ],\n",
       "        [  4.44 ,  -6.057],\n",
       "        [  3.188, -10.048],\n",
       "        [  2.686,  -3.716],\n",
       "        [  2.648,  -4.223],\n",
       "        [  5.557,  -3.877],\n",
       "        [  7.612,  -6.087],\n",
       "        [  4.459, -12.798],\n",
       "        [  7.919,  -8.588],\n",
       "        [  4.658, -10.677],\n",
       "        [  7.951,  -6.701],\n",
       "        [  7.133,  -4.344],\n",
       "        [  3.827, -11.941],\n",
       "        [  6.484,  -3.904],\n",
       "        [  6.323, -15.149],\n",
       "        [  6.697, -10.632],\n",
       "        [  4.214, -11.652],\n",
       "        [  3.827, -11.586],\n",
       "        [  7.79 ,  -7.776],\n",
       "        [  6.93 ,  -4.539],\n",
       "        [  3.035,  -6.666],\n",
       "        [  5.344, -14.793],\n",
       "        [  7.274,  -5.374],\n",
       "        [  3.131,  -3.784],\n",
       "        [  3.138,  -9.024],\n",
       "        [  8.604,  -6.652],\n",
       "        [  3.719,  -3.757],\n",
       "        [  6.139, -15.493],\n",
       "        [  7.384,  -9.053],\n",
       "        [  2.836, -10.304],\n",
       "        [  8.271,  -8.383],\n",
       "        [  2.324,  -3.775],\n",
       "        [  4.83 , -14.288],\n",
       "        [  8.424,  -4.57 ],\n",
       "        [  5.638, -15.692],\n",
       "        [  6.657,  -9.936],\n",
       "        [  2.309,  -8.844],\n",
       "        [  2.94 ,  -8.648],\n",
       "        [  5.88 ,  -4.02 ],\n",
       "        [  8.717,  -7.085],\n",
       "        [  1.802,  -3.691],\n",
       "        [  6.406,  -4.162],\n",
       "        [  6.809,  -9.66 ],\n",
       "        [  6.376, -15.791],\n",
       "        [  7.446,  -4.609],\n",
       "        [  8.684,  -6.033],\n",
       "        [  4.823, -13.39 ],\n",
       "        [  8.535,  -5.261],\n",
       "        [  2.382,  -8.546],\n",
       "        [  8.336,  -7.368],\n",
       "        [  7.843,  -4.802],\n",
       "        [  6.242, -10.766],\n",
       "        [  7.894,  -6.805],\n",
       "        [  5.036,  -3.984],\n",
       "        [  7.649,  -8.906],\n",
       "        [  4.826, -12.419],\n",
       "        [  6.8  , -10.14 ],\n",
       "        [  2.236,  -8.961],\n",
       "        [  5.391,  -4.057],\n",
       "        [  5.649, -14.104],\n",
       "        [  3.093,  -7.523],\n",
       "        [  6.888, -15.709],\n",
       "        [  5.093,  -5.921],\n",
       "        [  3.341,  -3.555],\n",
       "        [  4.748,  -5.871],\n",
       "        [  2.808,  -9.645],\n",
       "        [  2.263,  -3.538],\n",
       "        [  3.446,  -9.94 ],\n",
       "        [  2.773,  -7.864],\n",
       "        [  6.398, -16.162],\n",
       "        [  4.376, -12.36 ],\n",
       "        [  3.565,  -4.07 ],\n",
       "        [  2.361,  -7.95 ],\n",
       "        [  2.198,  -3.929],\n",
       "        [  6.62 , -15.591],\n",
       "        [  2.623,  -7.175],\n",
       "        [  3.078, -10.488],\n",
       "        [  6.531,  -4.529],\n",
       "        [  5.866, -15.483],\n",
       "        [  2.304,  -7.375],\n",
       "        [  2.078,  -8.309],\n",
       "        [  5.512, -13.791],\n",
       "        [  4.022,  -3.947],\n",
       "        [  6.549,  -4.911],\n",
       "        [  5.624, -10.39 ],\n",
       "        [  3.702,  -6.26 ],\n",
       "        [  8.17 ,  -5.923],\n",
       "        [  5.749, -11.443],\n",
       "        [  7.79 ,  -5.3  ],\n",
       "        [  5.425, -14.197],\n",
       "        [  5.956, -14.323],\n",
       "        [  3.645, -10.8  ],\n",
       "        [  5.229, -14.127],\n",
       "        [  4.913, -12.953],\n",
       "        [  8.427,  -6.71 ],\n",
       "        [  2.547,  -7.896],\n",
       "        [  3.43 , -11.003],\n",
       "        [  7.965,  -7.538],\n",
       "        [  5.802, -14.967],\n",
       "        [  4.387,  -5.845]], dtype=float32),\n",
       " array([[-1.333e+01,  7.767e+00],\n",
       "        [ 1.317e+00, -1.043e+00],\n",
       "        [ 8.078e-01, -1.863e+00],\n",
       "        [-6.343e-01, -2.307e-01],\n",
       "        [-1.755e+00, -4.113e+00],\n",
       "        [-1.488e+01,  9.124e+00],\n",
       "        [-7.842e-03,  8.819e-01],\n",
       "        [ 3.296e-01,  1.981e-01],\n",
       "        [ 1.224e+00, -6.556e-01],\n",
       "        [ 7.994e-01, -1.925e+00],\n",
       "        [ 7.644e-01, -2.201e+00],\n",
       "        [-1.456e+01,  8.849e+00],\n",
       "        [-1.204e+00,  9.655e-01],\n",
       "        [ 8.857e-01, -1.796e+00],\n",
       "        [ 1.285e+00, -4.771e-01],\n",
       "        [-5.339e-01, -3.686e+00],\n",
       "        [ 1.079e+00, -1.017e+00],\n",
       "        [ 7.668e-01, -1.143e+00],\n",
       "        [-1.408e+01,  8.843e+00],\n",
       "        [ 7.765e-01, -1.965e+00],\n",
       "        [ 5.784e-02, -3.011e+00],\n",
       "        [ 3.470e-01,  1.051e+00],\n",
       "        [ 7.835e-01, -1.517e+00],\n",
       "        [-1.379e+01,  8.584e+00],\n",
       "        [-3.373e+00, -7.951e+00],\n",
       "        [-4.215e-01, -2.196e+00],\n",
       "        [-1.137e-01,  4.776e-01],\n",
       "        [-1.145e-01, -1.833e-01],\n",
       "        [ 1.062e+00, -7.127e-01],\n",
       "        [-2.005e+00,  3.114e+00],\n",
       "        [-1.387e+01,  8.979e+00],\n",
       "        [-5.572e-01, -5.099e+00],\n",
       "        [ 2.629e-01, -6.975e-02],\n",
       "        [ 6.891e-01, -9.192e-01],\n",
       "        [ 3.559e-01, -1.008e+00],\n",
       "        [-1.596e+00, -3.593e+00],\n",
       "        [ 9.185e-01, -2.026e+00],\n",
       "        [ 1.094e+00, -2.387e+00],\n",
       "        [ 8.535e-01, -1.971e+00],\n",
       "        [ 8.243e-01, -4.030e-01],\n",
       "        [-1.474e+01,  8.849e+00],\n",
       "        [ 7.605e-01, -2.060e-01],\n",
       "        [ 1.105e+00, -4.345e-01],\n",
       "        [-1.194e+00,  1.592e+00],\n",
       "        [-7.404e-01, -4.505e+00],\n",
       "        [ 1.058e+00, -1.661e+00],\n",
       "        [ 5.716e-01, -2.142e+00],\n",
       "        [-1.517e+01,  9.046e+00],\n",
       "        [-9.405e-01, -4.236e+00],\n",
       "        [ 1.387e+00, -7.329e-01],\n",
       "        [ 1.088e+00, -9.102e-01],\n",
       "        [ 8.981e-01, -1.827e-02],\n",
       "        [ 3.223e-01,  3.918e-01],\n",
       "        [-1.511e+01,  8.528e+00],\n",
       "        [ 1.063e+00, -4.979e-01],\n",
       "        [-2.885e+00, -6.555e+00],\n",
       "        [ 1.205e+00, -8.233e-01],\n",
       "        [-2.158e-01,  6.619e-01],\n",
       "        [ 6.169e-01, -1.865e+00],\n",
       "        [ 5.350e-01, -2.254e+00],\n",
       "        [-7.439e-02,  5.073e-01],\n",
       "        [ 7.850e-01, -2.145e+00],\n",
       "        [-2.681e+00, -8.853e+00],\n",
       "        [-1.532e+01,  9.267e+00],\n",
       "        [-5.642e+00, -9.912e+00],\n",
       "        [-1.317e+01,  7.846e+00],\n",
       "        [ 9.304e-01, -4.620e-01],\n",
       "        [ 1.147e+00, -7.348e-01],\n",
       "        [-1.426e+01,  8.725e+00],\n",
       "        [ 1.989e+00, -2.044e+00],\n",
       "        [-6.559e+00, -7.098e+00],\n",
       "        [-1.384e+01,  8.524e+00],\n",
       "        [-1.487e+01,  8.589e+00],\n",
       "        [-1.419e+01,  8.698e+00],\n",
       "        [ 3.917e-01,  1.893e-01],\n",
       "        [ 7.621e-01, -4.840e+00],\n",
       "        [ 2.763e-01,  5.310e-01],\n",
       "        [-5.545e+00, -9.583e+00],\n",
       "        [ 1.000e+00, -7.506e-01],\n",
       "        [-1.489e+01,  9.445e+00],\n",
       "        [ 1.157e+00, -6.923e-01],\n",
       "        [-1.442e+01,  8.813e+00],\n",
       "        [-3.803e+00, -7.968e+00],\n",
       "        [ 1.268e+00, -5.942e-01],\n",
       "        [-1.310e+00, -2.357e+00],\n",
       "        [ 7.729e-01, -1.519e+00],\n",
       "        [-4.058e+00, -8.612e+00],\n",
       "        [ 9.366e-01, -1.473e+00],\n",
       "        [ 7.069e-01, -2.229e+00],\n",
       "        [ 8.056e-01, -1.612e+00],\n",
       "        [-3.623e+00, -6.478e+00],\n",
       "        [ 9.905e-01, -2.132e+00],\n",
       "        [-1.417e+01,  8.801e+00],\n",
       "        [-2.710e+00,  3.612e+00],\n",
       "        [-1.474e+01,  9.210e+00],\n",
       "        [ 1.101e+00, -1.462e+00],\n",
       "        [-1.494e+01,  8.900e+00],\n",
       "        [ 8.286e-01, -1.674e+00],\n",
       "        [ 1.187e+00, -2.984e-01],\n",
       "        [ 1.304e-01,  2.783e-01],\n",
       "        [ 3.191e+00,  1.148e+00],\n",
       "        [ 2.635e+00, -7.663e-01],\n",
       "        [ 2.424e+00,  1.475e-01],\n",
       "        [ 1.978e+00, -1.033e+00],\n",
       "        [ 2.031e+00, -9.435e-01],\n",
       "        [ 2.610e+00, -1.397e+00],\n",
       "        [ 3.205e+00, -1.053e+00],\n",
       "        [ 2.967e+00,  8.656e-01],\n",
       "        [ 3.564e+00, -4.160e-01],\n",
       "        [ 2.787e+00,  1.927e-01],\n",
       "        [ 3.352e+00, -9.356e-01],\n",
       "        [ 3.009e+00, -1.449e+00],\n",
       "        [ 2.666e+00,  6.624e-01],\n",
       "        [ 2.826e+00, -1.513e+00],\n",
       "        [ 4.226e+00,  1.412e+00],\n",
       "        [ 3.411e+00,  1.591e-01],\n",
       "        [ 2.742e+00,  5.433e-01],\n",
       "        [ 2.649e+00,  5.547e-01],\n",
       "        [ 3.297e+00, -6.507e-01],\n",
       "        [ 2.973e+00, -1.398e+00],\n",
       "        [ 2.318e+00, -6.168e-01],\n",
       "        [ 3.721e+00,  1.427e+00],\n",
       "        [ 3.116e+00, -1.225e+00],\n",
       "        [ 2.108e+00, -1.115e+00],\n",
       "        [ 2.433e+00, -1.278e-01],\n",
       "        [ 3.563e+00, -9.992e-01],\n",
       "        [ 2.234e+00, -1.183e+00],\n",
       "        [ 4.327e+00,  1.582e+00],\n",
       "        [ 3.291e+00, -3.523e-01],\n",
       "        [ 2.346e+00,  2.238e-01],\n",
       "        [ 3.705e+00, -4.765e-01],\n",
       "        [ 1.902e+00, -9.551e-01],\n",
       "        [ 3.403e+00,  1.397e+00],\n",
       "        [ 3.499e+00, -1.728e+00],\n",
       "        [ 4.238e+00,  1.909e+00],\n",
       "        [ 3.144e+00, -1.015e-01],\n",
       "        [ 2.161e+00, -1.472e-01],\n",
       "        [ 2.338e+00, -1.923e-01],\n",
       "        [ 2.686e+00, -1.409e+00],\n",
       "        [ 3.660e+00, -9.186e-01],\n",
       "        [ 1.779e+00, -8.318e-01],\n",
       "        [ 2.830e+00, -1.433e+00],\n",
       "        [ 3.106e+00, -2.012e-01],\n",
       "        [ 4.587e+00,  1.583e+00],\n",
       "        [ 3.117e+00, -1.450e+00],\n",
       "        [ 3.594e+00, -1.204e+00],\n",
       "        [ 3.159e+00,  1.056e+00],\n",
       "        [ 3.541e+00, -1.469e+00],\n",
       "        [ 2.177e+00, -2.069e-01],\n",
       "        [ 3.506e+00, -8.034e-01],\n",
       "        [ 3.256e+00, -1.477e+00],\n",
       "        [ 3.211e+00,  1.956e-01],\n",
       "        [ 3.339e+00, -9.088e-01],\n",
       "        [ 2.532e+00, -1.307e+00],\n",
       "        [ 3.451e+00, -3.486e-01],\n",
       "        [ 2.997e+00,  7.168e-01],\n",
       "        [ 3.284e+00, -1.273e-02],\n",
       "        [ 2.141e+00, -1.209e-01],\n",
       "        [ 2.593e+00, -1.346e+00],\n",
       "        [ 3.575e+00,  1.126e+00],\n",
       "        [ 2.373e+00, -4.354e-01],\n",
       "        [ 4.838e+00,  1.060e+00],\n",
       "        [ 2.779e+00, -8.447e-01],\n",
       "        [ 2.139e+00, -1.183e+00],\n",
       "        [ 2.686e+00, -8.387e-01],\n",
       "        [ 2.353e+00,  5.146e-02],\n",
       "        [ 1.855e+00, -9.794e-01],\n",
       "        [ 2.482e+00,  1.049e-01],\n",
       "        [ 2.264e+00, -3.666e-01],\n",
       "        [ 5.023e+00,  1.983e+00],\n",
       "        [ 2.873e+00,  7.432e-01],\n",
       "        [ 2.233e+00, -1.125e+00],\n",
       "        [ 2.203e+00, -3.365e-01],\n",
       "        [ 1.892e+00, -9.108e-01],\n",
       "        [ 4.585e+00,  1.375e+00],\n",
       "        [ 2.231e+00, -4.968e-01],\n",
       "        [ 2.401e+00,  2.504e-01],\n",
       "        [ 2.891e+00, -1.366e+00],\n",
       "        [ 4.224e+00,  1.630e+00],\n",
       "        [ 2.159e+00, -4.522e-01],\n",
       "        [ 2.125e+00, -2.495e-01],\n",
       "        [ 3.474e+00,  1.068e+00],\n",
       "        [ 2.309e+00, -1.177e+00],\n",
       "        [ 2.915e+00, -1.265e+00],\n",
       "        [ 2.922e+00,  4.674e-02],\n",
       "        [ 2.459e+00, -7.050e-01],\n",
       "        [ 3.401e+00, -1.179e+00],\n",
       "        [ 3.165e+00,  3.938e-01],\n",
       "        [ 3.257e+00, -1.325e+00],\n",
       "        [ 3.553e+00,  1.156e+00],\n",
       "        [ 3.734e+00,  1.054e+00],\n",
       "        [ 2.547e+00,  3.239e-01],\n",
       "        [ 3.494e+00,  1.166e+00],\n",
       "        [ 3.087e+00,  8.835e-01],\n",
       "        [ 3.509e+00, -9.736e-01],\n",
       "        [ 2.226e+00, -3.533e-01],\n",
       "        [ 2.511e+00,  3.815e-01],\n",
       "        [ 3.352e+00, -7.183e-01],\n",
       "        [ 3.948e+00,  1.446e+00],\n",
       "        [ 2.588e+00, -8.278e-01]]))"
      ]
     },
     "execution_count": 54,
     "metadata": {},
     "output_type": "execute_result"
    }
   ],
   "source": [
    "# use this cell to explore your solution\n",
    "# remember to comment the function call before submitting the notebook\n",
    "\n",
    "answer_manifold_a()"
   ]
  },
  {
   "cell_type": "code",
   "execution_count": 55,
   "metadata": {
    "deletable": false,
    "editable": false,
    "nbgrader": {
     "cell_type": "code",
     "checksum": "b312f5ca38d7cbca757eab35e400049d",
     "grade": true,
     "grade_id": "cell-4392d4956be6c219",
     "locked": true,
     "points": 10,
     "schema_version": 3,
     "solution": false
    }
   },
   "outputs": [
    {
     "name": "stdout",
     "output_type": "stream",
     "text": [
      "Task 3a - AG tests\n",
      "Task 3a - your answer: (array([[15.397, -0.386],\n",
      "       [-1.871, -0.085],\n",
      "       [-1.716,  0.954],\n",
      "       [ 0.121,  0.235],\n",
      "       [-0.674,  4.289],\n",
      "       [17.423, -0.632],\n",
      "       [-0.219, -0.625],\n",
      "       [-0.693, -0.434],\n",
      "       [-1.818, -0.238],\n",
      "       [-1.718,  1.01 ],\n",
      "       [-1.726,  1.249],\n",
      "       [17.003, -0.605],\n",
      "       [ 1.237, -0.393],\n",
      "       [-1.743,  0.837],\n",
      "       [-1.818, -0.315],\n",
      "       [-1.309,  3.349],\n",
      "       [-1.777,  0.05 ],\n",
      "       [-1.578,  0.354],\n",
      "       [16.597, -0.443],\n",
      "       [-1.712,  1.06 ],\n",
      "       [-1.492,  2.424],\n",
      "       [-0.632, -0.681],\n",
      "       [-1.667,  0.682],\n",
      "       [16.213, -0.627],\n",
      "       [-0.755,  8.335],\n",
      "       [-0.976,  1.89 ],\n",
      "       [-0.106, -0.479],\n",
      "       [-0.344, -0.037],\n",
      "       [-1.721, -0.155],\n",
      "       [ 2.379, -1.203],\n",
      "       [16.477, -0.788],\n",
      "       [-1.543,  4.279],\n",
      "       [-0.683, -0.268],\n",
      "       [-1.446,  0.197],\n",
      "       [-1.18 ,  0.451],\n",
      "       [-0.607,  3.725],\n",
      "       [-1.772,  0.985],\n",
      "       [-1.874,  1.082],\n",
      "       [-1.743,  1.   ],\n",
      "       [-1.413, -0.249],\n",
      "       [17.164, -0.525],\n",
      "       [-1.293, -0.332],\n",
      "       [-1.692, -0.294],\n",
      "       [ 1.413, -0.775],\n",
      "       [-1.362,  4.086],\n",
      "       [-1.803,  0.585],\n",
      "       [-1.637,  1.357],\n",
      "       [17.621, -0.718],\n",
      "       [-1.215,  4.037],\n",
      "       [-1.88 , -0.259],\n",
      "       [-1.771, -0.036],\n",
      "       [-1.407, -0.413],\n",
      "       [-0.666, -0.5  ],\n",
      "       [17.327, -0.442],\n",
      "       [-1.673, -0.263],\n",
      "       [-0.667,  7.012],\n",
      "       [-1.827, -0.154],\n",
      "       [ 0.049, -0.548],\n",
      "       [-1.63 ,  1.096],\n",
      "       [-1.63 ,  1.475],\n",
      "       [-0.147, -0.503],\n",
      "       [-1.73 ,  1.189],\n",
      "       [-1.184,  8.319],\n",
      "       [17.869, -0.71 ],\n",
      "       [ 0.078, 11.167],\n",
      "       [15.302, -0.287],\n",
      "       [-1.54 , -0.248],\n",
      "       [-1.785, -0.177],\n",
      "       [16.685, -0.513],\n",
      "       [-2.254,  0.087],\n",
      "       [ 1.67 ,  8.852],\n",
      "       [16.221, -0.469],\n",
      "       [17.143, -0.324],\n",
      "       [16.615, -0.505],\n",
      "       [-0.773, -0.438],\n",
      "       [-2.059,  2.989],\n",
      "       [-0.599, -0.536],\n",
      "       [ 0.117, 10.841],\n",
      "       [-1.678, -0.103],\n",
      "       [17.57 , -0.927],\n",
      "       [-1.786, -0.202],\n",
      "       [16.864, -0.617],\n",
      "       [-0.54 ,  8.635],\n",
      "       [-1.83 , -0.271],\n",
      "       [-0.337,  2.415],\n",
      "       [-1.661,  0.691],\n",
      "       [-0.547,  9.26 ],\n",
      "       [-1.741,  0.533],\n",
      "       [-1.704,  1.32 ],\n",
      "       [-1.691,  0.749],\n",
      "       [-0.208,  7.28 ],\n",
      "       [-1.808,  0.998],\n",
      "       [16.642, -0.581],\n",
      "       [ 3.234, -1.362],\n",
      "       [17.332, -0.789],\n",
      "       [-1.81 ,  0.392],\n",
      "       [17.362, -0.517],\n",
      "       [-1.708,  0.784],\n",
      "       [-1.721, -0.359],\n",
      "       [-0.437, -0.434],\n",
      "       [-2.349, -1.961],\n",
      "       [-2.413, -0.657],\n",
      "       [-2.146, -1.058],\n",
      "       [-2.112, -0.338],\n",
      "       [-2.122, -0.385],\n",
      "       [-2.534, -0.378],\n",
      "       [-2.823, -0.704],\n",
      "       [-2.287, -1.696],\n",
      "       [-2.88 , -1.157],\n",
      "       [-2.307, -1.228],\n",
      "       [-2.884, -0.809],\n",
      "       [-2.795, -0.466],\n",
      "       [-2.188, -1.447],\n",
      "       [-2.692, -0.391],\n",
      "       [-2.862, -2.504],\n",
      "       [-2.65 , -1.436],\n",
      "       [-2.232, -1.412],\n",
      "       [-2.192, -1.379],\n",
      "       [-2.777, -0.939],\n",
      "       [-2.76 , -0.477],\n",
      "       [-2.21 , -0.619],\n",
      "       [-2.566, -2.346],\n",
      "       [-2.81 , -0.595],\n",
      "       [-2.192, -0.345],\n",
      "       [-2.186, -0.912],\n",
      "       [-3.033, -0.846],\n",
      "       [-2.272, -0.356],\n",
      "       [-2.887, -2.651],\n",
      "       [-2.7  , -1.1  ],\n",
      "       [-2.108, -1.065],\n",
      "       [-2.981, -1.171],\n",
      "       [-2.063, -0.343],\n",
      "       [-2.413, -2.2  ],\n",
      "       [-3.181, -0.48 ],\n",
      "       [-2.76 , -2.847],\n",
      "       [-2.556, -1.19 ],\n",
      "       [-2.07 , -0.792],\n",
      "       [-2.151, -0.84 ],\n",
      "       [-2.583, -0.393],\n",
      "       [-3.072, -0.919],\n",
      "       [-1.993, -0.348],\n",
      "       [-2.678, -0.423],\n",
      "       [-2.557, -1.12 ],\n",
      "       [-3.047, -2.73 ],\n",
      "       [-2.864, -0.496],\n",
      "       [-3.108, -0.754],\n",
      "       [-2.347, -1.891],\n",
      "       [-3.145, -0.611],\n",
      "       [-2.083, -0.768],\n",
      "       [-2.945, -0.928],\n",
      "       [-2.961, -0.524],\n",
      "       [-2.53 , -1.387],\n",
      "       [-2.869, -0.818],\n",
      "       [-2.468, -0.39 ],\n",
      "       [-2.794, -1.156],\n",
      "       [-2.323, -1.619],\n",
      "       [-2.617, -1.291],\n",
      "       [-2.061, -0.797],\n",
      "       [-2.513, -0.392],\n",
      "       [-2.542, -2.098],\n",
      "       [-2.206, -0.729],\n",
      "       [-3.316, -2.461],\n",
      "       [-2.515, -0.667],\n",
      "       [-2.222, -0.33 ],\n",
      "       [-2.459, -0.639],\n",
      "       [-2.127, -0.976],\n",
      "       [-2.047, -0.321],\n",
      "       [-2.175, -1.059],\n",
      "       [-2.142, -0.722],\n",
      "       [-3.237, -3.133],\n",
      "       [-2.263, -1.584],\n",
      "       [-2.26 , -0.376],\n",
      "       [-2.109, -0.713],\n",
      "       [-2.052, -0.355],\n",
      "       [-3.089, -2.589],\n",
      "       [-2.146, -0.645],\n",
      "       [-2.126, -1.103],\n",
      "       [-2.702, -0.467],\n",
      "       [-2.816, -2.652],\n",
      "       [-2.106, -0.64 ],\n",
      "       [-2.066, -0.725],\n",
      "       [-2.499, -2.023],\n",
      "       [-2.313, -0.378],\n",
      "       [-2.694, -0.516],\n",
      "       [-2.403, -1.195],\n",
      "       [-2.302, -0.626],\n",
      "       [-2.978, -0.705],\n",
      "       [-2.464, -1.489],\n",
      "       [-2.923, -0.592],\n",
      "       [-2.525, -2.109],\n",
      "       [-2.643, -2.108],\n",
      "       [-2.177, -1.207],\n",
      "       [-2.493, -2.093],\n",
      "       [-2.339, -1.757],\n",
      "       [-2.992, -0.841],\n",
      "       [-2.122, -0.714],\n",
      "       [-2.156, -1.223],\n",
      "       [-2.828, -0.922],\n",
      "       [-2.69 , -2.438],\n",
      "       [-2.4  , -0.612]]), array([[-16.657,   6.999],\n",
      "       [ -2.74 ,   2.706],\n",
      "       [ -2.668,   6.634],\n",
      "       [ -7.71 ,   2.676],\n",
      "       [ -3.193,  10.199],\n",
      "       [-15.369,   6.817],\n",
      "       [ -7.837,   0.661],\n",
      "       [ -7.011,   1.35 ],\n",
      "       [ -3.555,   1.79 ],\n",
      "       [ -2.516,   6.781],\n",
      "       [ -1.965,   7.428],\n",
      "       [-16.   ,   6.017],\n",
      "       [ -8.745,   1.805],\n",
      "       [ -2.288,   6.24 ],\n",
      "       [ -3.818,   1.211],\n",
      "       [ -2.669,   9.754],\n",
      "       [ -3.357,   3.285],\n",
      "       [ -3.705,   4.459],\n",
      "       [-16.244,   7.193],\n",
      "       [ -2.568,   6.949],\n",
      "       [ -2.575,   8.844],\n",
      "       [ -7.526,   0.217],\n",
      "       [ -3.278,   5.743],\n",
      "       [-16.598,   6.788],\n",
      "       [ -2.445,  12.16 ],\n",
      "       [ -3.769,   8.738],\n",
      "       [ -7.801,   1.518],\n",
      "       [ -7.432,   2.438],\n",
      "       [ -4.017,   2.501],\n",
      "       [ -9.658,   0.885],\n",
      "       [-16.463,   6.107],\n",
      "       [ -1.867,  10.06 ],\n",
      "       [ -6.966,   1.973],\n",
      "       [ -4.176,   3.931],\n",
      "       [ -4.391,   4.525],\n",
      "       [ -3.369,   9.948],\n",
      "       [ -1.777,   6.686],\n",
      "       [ -1.216,   7.263],\n",
      "       [ -2.041,   6.664],\n",
      "       [ -5.045,   2.067],\n",
      "       [-15.963,   5.882],\n",
      "       [ -5.543,   1.613],\n",
      "       [ -4.354,   1.5  ],\n",
      "       [ -8.973,   1.376],\n",
      "       [ -2.28 ,  10.087],\n",
      "       [ -2.122,   5.8  ],\n",
      "       [ -2.843,   7.492],\n",
      "       [-15.345,   6.613],\n",
      "       [ -2.622,  10.085],\n",
      "       [ -3.005,   1.639],\n",
      "       [ -3.51 ,   2.956],\n",
      "       [ -5.422,   1.074],\n",
      "       [ -7.182,   0.917],\n",
      "       [-15.679,   7.187],\n",
      "       [ -4.338,   1.801],\n",
      "       [ -2.707,  11.723],\n",
      "       [ -3.258,   2.378],\n",
      "       [ -8.011,   1.293],\n",
      "       [ -3.201,   6.911],\n",
      "       [ -2.656,   7.73 ],\n",
      "       [ -7.776,   1.376],\n",
      "       [ -2.018,   7.27 ],\n",
      "       [ -2.101,  12.184],\n",
      "       [-15.386,   6.399],\n",
      "       [ -2.853,  12.631],\n",
      "       [-16.748,   6.595],\n",
      "       [ -4.705,   2.035],\n",
      "       [ -3.651,   2.308],\n",
      "       [-16.028,   6.671],\n",
      "       [  3.376,  -2.287],\n",
      "       [ -3.412,  12.303],\n",
      "       [-16.599,   6.356],\n",
      "       [-15.904,   7.306],\n",
      "       [-16.254,   7.217],\n",
      "       [ -6.881,   1.246],\n",
      "       [ -1.397,   9.658],\n",
      "       [ -7.362,   0.748],\n",
      "       [ -2.902,  12.583],\n",
      "       [ -4.092,   2.765],\n",
      "       [-15.475,   6.193],\n",
      "       [ -3.715,   2.116],\n",
      "       [-15.983,   6.65 ],\n",
      "       [ -2.626,  12.207],\n",
      "       [ -3.597,   1.502],\n",
      "       [ -3.833,   9.222],\n",
      "       [ -3.312,   5.772],\n",
      "       [ -2.549,  12.344],\n",
      "       [ -2.854,   5.416],\n",
      "       [ -2.137,   7.559],\n",
      "       [ -3.093,   6.072],\n",
      "       [ -2.979,  11.831],\n",
      "       [ -1.511,   6.882],\n",
      "       [-16.36 ,   6.072],\n",
      "       [ -9.706,   0.873],\n",
      "       [-15.617,   6.012],\n",
      "       [ -2.437,   5.229],\n",
      "       [-15.532,   7.085],\n",
      "       [ -2.828,   6.135],\n",
      "       [ -4.384,   1.068],\n",
      "       [ -7.395,   1.54 ],\n",
      "       [  4.736, -13.61 ],\n",
      "       [  4.44 ,  -6.057],\n",
      "       [  3.188, -10.048],\n",
      "       [  2.686,  -3.716],\n",
      "       [  2.648,  -4.223],\n",
      "       [  5.557,  -3.877],\n",
      "       [  7.612,  -6.087],\n",
      "       [  4.459, -12.798],\n",
      "       [  7.919,  -8.588],\n",
      "       [  4.658, -10.677],\n",
      "       [  7.951,  -6.701],\n",
      "       [  7.133,  -4.344],\n",
      "       [  3.827, -11.941],\n",
      "       [  6.484,  -3.904],\n",
      "       [  6.323, -15.149],\n",
      "       [  6.697, -10.632],\n",
      "       [  4.214, -11.652],\n",
      "       [  3.827, -11.586],\n",
      "       [  7.79 ,  -7.776],\n",
      "       [  6.93 ,  -4.539],\n",
      "       [  3.035,  -6.666],\n",
      "       [  5.344, -14.793],\n",
      "       [  7.274,  -5.374],\n",
      "       [  3.131,  -3.784],\n",
      "       [  3.138,  -9.024],\n",
      "       [  8.604,  -6.652],\n",
      "       [  3.719,  -3.757],\n",
      "       [  6.139, -15.493],\n",
      "       [  7.384,  -9.053],\n",
      "       [  2.836, -10.304],\n",
      "       [  8.271,  -8.383],\n",
      "       [  2.324,  -3.775],\n",
      "       [  4.83 , -14.288],\n",
      "       [  8.424,  -4.57 ],\n",
      "       [  5.638, -15.692],\n",
      "       [  6.657,  -9.936],\n",
      "       [  2.309,  -8.844],\n",
      "       [  2.94 ,  -8.648],\n",
      "       [  5.88 ,  -4.02 ],\n",
      "       [  8.717,  -7.085],\n",
      "       [  1.802,  -3.691],\n",
      "       [  6.406,  -4.162],\n",
      "       [  6.809,  -9.66 ],\n",
      "       [  6.376, -15.791],\n",
      "       [  7.446,  -4.609],\n",
      "       [  8.684,  -6.033],\n",
      "       [  4.823, -13.39 ],\n",
      "       [  8.535,  -5.261],\n",
      "       [  2.382,  -8.546],\n",
      "       [  8.336,  -7.368],\n",
      "       [  7.843,  -4.802],\n",
      "       [  6.242, -10.766],\n",
      "       [  7.894,  -6.805],\n",
      "       [  5.036,  -3.984],\n",
      "       [  7.649,  -8.906],\n",
      "       [  4.826, -12.419],\n",
      "       [  6.8  , -10.14 ],\n",
      "       [  2.236,  -8.961],\n",
      "       [  5.391,  -4.057],\n",
      "       [  5.649, -14.104],\n",
      "       [  3.093,  -7.523],\n",
      "       [  6.888, -15.709],\n",
      "       [  5.093,  -5.921],\n",
      "       [  3.341,  -3.555],\n",
      "       [  4.748,  -5.871],\n",
      "       [  2.808,  -9.645],\n",
      "       [  2.263,  -3.538],\n",
      "       [  3.446,  -9.94 ],\n",
      "       [  2.773,  -7.864],\n",
      "       [  6.398, -16.162],\n",
      "       [  4.376, -12.36 ],\n",
      "       [  3.565,  -4.07 ],\n",
      "       [  2.361,  -7.95 ],\n",
      "       [  2.198,  -3.929],\n",
      "       [  6.62 , -15.591],\n",
      "       [  2.623,  -7.175],\n",
      "       [  3.078, -10.488],\n",
      "       [  6.531,  -4.529],\n",
      "       [  5.866, -15.483],\n",
      "       [  2.304,  -7.375],\n",
      "       [  2.078,  -8.309],\n",
      "       [  5.512, -13.791],\n",
      "       [  4.022,  -3.947],\n",
      "       [  6.549,  -4.911],\n",
      "       [  5.624, -10.39 ],\n",
      "       [  3.702,  -6.26 ],\n",
      "       [  8.17 ,  -5.923],\n",
      "       [  5.749, -11.443],\n",
      "       [  7.79 ,  -5.3  ],\n",
      "       [  5.425, -14.197],\n",
      "       [  5.956, -14.323],\n",
      "       [  3.645, -10.8  ],\n",
      "       [  5.229, -14.127],\n",
      "       [  4.913, -12.953],\n",
      "       [  8.427,  -6.71 ],\n",
      "       [  2.547,  -7.896],\n",
      "       [  3.43 , -11.003],\n",
      "       [  7.965,  -7.538],\n",
      "       [  5.802, -14.967],\n",
      "       [  4.387,  -5.845]], dtype=float32), array([[-1.333e+01,  7.767e+00],\n",
      "       [ 1.317e+00, -1.043e+00],\n",
      "       [ 8.078e-01, -1.863e+00],\n",
      "       [-6.343e-01, -2.307e-01],\n",
      "       [-1.755e+00, -4.113e+00],\n",
      "       [-1.488e+01,  9.124e+00],\n",
      "       [-7.842e-03,  8.819e-01],\n",
      "       [ 3.296e-01,  1.981e-01],\n",
      "       [ 1.224e+00, -6.556e-01],\n",
      "       [ 7.994e-01, -1.925e+00],\n",
      "       [ 7.644e-01, -2.201e+00],\n",
      "       [-1.456e+01,  8.849e+00],\n",
      "       [-1.204e+00,  9.655e-01],\n",
      "       [ 8.857e-01, -1.796e+00],\n",
      "       [ 1.285e+00, -4.771e-01],\n",
      "       [-5.339e-01, -3.686e+00],\n",
      "       [ 1.079e+00, -1.017e+00],\n",
      "       [ 7.668e-01, -1.143e+00],\n",
      "       [-1.408e+01,  8.843e+00],\n",
      "       [ 7.765e-01, -1.965e+00],\n",
      "       [ 5.784e-02, -3.011e+00],\n",
      "       [ 3.470e-01,  1.051e+00],\n",
      "       [ 7.835e-01, -1.517e+00],\n",
      "       [-1.379e+01,  8.584e+00],\n",
      "       [-3.373e+00, -7.951e+00],\n",
      "       [-4.215e-01, -2.196e+00],\n",
      "       [-1.137e-01,  4.776e-01],\n",
      "       [-1.145e-01, -1.833e-01],\n",
      "       [ 1.062e+00, -7.127e-01],\n",
      "       [-2.005e+00,  3.114e+00],\n",
      "       [-1.387e+01,  8.979e+00],\n",
      "       [-5.572e-01, -5.099e+00],\n",
      "       [ 2.629e-01, -6.975e-02],\n",
      "       [ 6.891e-01, -9.192e-01],\n",
      "       [ 3.559e-01, -1.008e+00],\n",
      "       [-1.596e+00, -3.593e+00],\n",
      "       [ 9.185e-01, -2.026e+00],\n",
      "       [ 1.094e+00, -2.387e+00],\n",
      "       [ 8.535e-01, -1.971e+00],\n",
      "       [ 8.243e-01, -4.030e-01],\n",
      "       [-1.474e+01,  8.849e+00],\n",
      "       [ 7.605e-01, -2.060e-01],\n",
      "       [ 1.105e+00, -4.345e-01],\n",
      "       [-1.194e+00,  1.592e+00],\n",
      "       [-7.404e-01, -4.505e+00],\n",
      "       [ 1.058e+00, -1.661e+00],\n",
      "       [ 5.716e-01, -2.142e+00],\n",
      "       [-1.517e+01,  9.046e+00],\n",
      "       [-9.405e-01, -4.236e+00],\n",
      "       [ 1.387e+00, -7.329e-01],\n",
      "       [ 1.088e+00, -9.102e-01],\n",
      "       [ 8.981e-01, -1.827e-02],\n",
      "       [ 3.223e-01,  3.918e-01],\n",
      "       [-1.511e+01,  8.528e+00],\n",
      "       [ 1.063e+00, -4.979e-01],\n",
      "       [-2.885e+00, -6.555e+00],\n",
      "       [ 1.205e+00, -8.233e-01],\n",
      "       [-2.158e-01,  6.619e-01],\n",
      "       [ 6.169e-01, -1.865e+00],\n",
      "       [ 5.350e-01, -2.254e+00],\n",
      "       [-7.439e-02,  5.073e-01],\n",
      "       [ 7.850e-01, -2.145e+00],\n",
      "       [-2.681e+00, -8.853e+00],\n",
      "       [-1.532e+01,  9.267e+00],\n",
      "       [-5.642e+00, -9.912e+00],\n",
      "       [-1.317e+01,  7.846e+00],\n",
      "       [ 9.304e-01, -4.620e-01],\n",
      "       [ 1.147e+00, -7.348e-01],\n",
      "       [-1.426e+01,  8.725e+00],\n",
      "       [ 1.989e+00, -2.044e+00],\n",
      "       [-6.559e+00, -7.098e+00],\n",
      "       [-1.384e+01,  8.524e+00],\n",
      "       [-1.487e+01,  8.589e+00],\n",
      "       [-1.419e+01,  8.698e+00],\n",
      "       [ 3.917e-01,  1.893e-01],\n",
      "       [ 7.621e-01, -4.840e+00],\n",
      "       [ 2.763e-01,  5.310e-01],\n",
      "       [-5.545e+00, -9.583e+00],\n",
      "       [ 1.000e+00, -7.506e-01],\n",
      "       [-1.489e+01,  9.445e+00],\n",
      "       [ 1.157e+00, -6.923e-01],\n",
      "       [-1.442e+01,  8.813e+00],\n",
      "       [-3.803e+00, -7.968e+00],\n",
      "       [ 1.268e+00, -5.942e-01],\n",
      "       [-1.310e+00, -2.357e+00],\n",
      "       [ 7.729e-01, -1.519e+00],\n",
      "       [-4.058e+00, -8.612e+00],\n",
      "       [ 9.366e-01, -1.473e+00],\n",
      "       [ 7.069e-01, -2.229e+00],\n",
      "       [ 8.056e-01, -1.612e+00],\n",
      "       [-3.623e+00, -6.478e+00],\n",
      "       [ 9.905e-01, -2.132e+00],\n",
      "       [-1.417e+01,  8.801e+00],\n",
      "       [-2.710e+00,  3.612e+00],\n",
      "       [-1.474e+01,  9.210e+00],\n",
      "       [ 1.101e+00, -1.462e+00],\n",
      "       [-1.494e+01,  8.900e+00],\n",
      "       [ 8.286e-01, -1.674e+00],\n",
      "       [ 1.187e+00, -2.984e-01],\n",
      "       [ 1.304e-01,  2.783e-01],\n",
      "       [ 3.191e+00,  1.148e+00],\n",
      "       [ 2.635e+00, -7.663e-01],\n",
      "       [ 2.424e+00,  1.475e-01],\n",
      "       [ 1.978e+00, -1.033e+00],\n",
      "       [ 2.031e+00, -9.435e-01],\n",
      "       [ 2.610e+00, -1.397e+00],\n",
      "       [ 3.205e+00, -1.053e+00],\n",
      "       [ 2.967e+00,  8.656e-01],\n",
      "       [ 3.564e+00, -4.160e-01],\n",
      "       [ 2.787e+00,  1.927e-01],\n",
      "       [ 3.352e+00, -9.356e-01],\n",
      "       [ 3.009e+00, -1.449e+00],\n",
      "       [ 2.666e+00,  6.624e-01],\n",
      "       [ 2.826e+00, -1.513e+00],\n",
      "       [ 4.226e+00,  1.412e+00],\n",
      "       [ 3.411e+00,  1.591e-01],\n",
      "       [ 2.742e+00,  5.433e-01],\n",
      "       [ 2.649e+00,  5.547e-01],\n",
      "       [ 3.297e+00, -6.507e-01],\n",
      "       [ 2.973e+00, -1.398e+00],\n",
      "       [ 2.318e+00, -6.168e-01],\n",
      "       [ 3.721e+00,  1.427e+00],\n",
      "       [ 3.116e+00, -1.225e+00],\n",
      "       [ 2.108e+00, -1.115e+00],\n",
      "       [ 2.433e+00, -1.278e-01],\n",
      "       [ 3.563e+00, -9.992e-01],\n",
      "       [ 2.234e+00, -1.183e+00],\n",
      "       [ 4.327e+00,  1.582e+00],\n",
      "       [ 3.291e+00, -3.523e-01],\n",
      "       [ 2.346e+00,  2.238e-01],\n",
      "       [ 3.705e+00, -4.765e-01],\n",
      "       [ 1.902e+00, -9.551e-01],\n",
      "       [ 3.403e+00,  1.397e+00],\n",
      "       [ 3.499e+00, -1.728e+00],\n",
      "       [ 4.238e+00,  1.909e+00],\n",
      "       [ 3.144e+00, -1.015e-01],\n",
      "       [ 2.161e+00, -1.472e-01],\n",
      "       [ 2.338e+00, -1.923e-01],\n",
      "       [ 2.686e+00, -1.409e+00],\n",
      "       [ 3.660e+00, -9.186e-01],\n",
      "       [ 1.779e+00, -8.318e-01],\n",
      "       [ 2.830e+00, -1.433e+00],\n",
      "       [ 3.106e+00, -2.012e-01],\n",
      "       [ 4.587e+00,  1.583e+00],\n",
      "       [ 3.117e+00, -1.450e+00],\n",
      "       [ 3.594e+00, -1.204e+00],\n",
      "       [ 3.159e+00,  1.056e+00],\n",
      "       [ 3.541e+00, -1.469e+00],\n",
      "       [ 2.177e+00, -2.069e-01],\n",
      "       [ 3.506e+00, -8.034e-01],\n",
      "       [ 3.256e+00, -1.477e+00],\n",
      "       [ 3.211e+00,  1.956e-01],\n",
      "       [ 3.339e+00, -9.088e-01],\n",
      "       [ 2.532e+00, -1.307e+00],\n",
      "       [ 3.451e+00, -3.486e-01],\n",
      "       [ 2.997e+00,  7.168e-01],\n",
      "       [ 3.284e+00, -1.273e-02],\n",
      "       [ 2.141e+00, -1.209e-01],\n",
      "       [ 2.593e+00, -1.346e+00],\n",
      "       [ 3.575e+00,  1.126e+00],\n",
      "       [ 2.373e+00, -4.354e-01],\n",
      "       [ 4.838e+00,  1.060e+00],\n",
      "       [ 2.779e+00, -8.447e-01],\n",
      "       [ 2.139e+00, -1.183e+00],\n",
      "       [ 2.686e+00, -8.387e-01],\n",
      "       [ 2.353e+00,  5.146e-02],\n",
      "       [ 1.855e+00, -9.794e-01],\n",
      "       [ 2.482e+00,  1.049e-01],\n",
      "       [ 2.264e+00, -3.666e-01],\n",
      "       [ 5.023e+00,  1.983e+00],\n",
      "       [ 2.873e+00,  7.432e-01],\n",
      "       [ 2.233e+00, -1.125e+00],\n",
      "       [ 2.203e+00, -3.365e-01],\n",
      "       [ 1.892e+00, -9.108e-01],\n",
      "       [ 4.585e+00,  1.375e+00],\n",
      "       [ 2.231e+00, -4.968e-01],\n",
      "       [ 2.401e+00,  2.504e-01],\n",
      "       [ 2.891e+00, -1.366e+00],\n",
      "       [ 4.224e+00,  1.630e+00],\n",
      "       [ 2.159e+00, -4.522e-01],\n",
      "       [ 2.125e+00, -2.495e-01],\n",
      "       [ 3.474e+00,  1.068e+00],\n",
      "       [ 2.309e+00, -1.177e+00],\n",
      "       [ 2.915e+00, -1.265e+00],\n",
      "       [ 2.922e+00,  4.674e-02],\n",
      "       [ 2.459e+00, -7.050e-01],\n",
      "       [ 3.401e+00, -1.179e+00],\n",
      "       [ 3.165e+00,  3.938e-01],\n",
      "       [ 3.257e+00, -1.325e+00],\n",
      "       [ 3.553e+00,  1.156e+00],\n",
      "       [ 3.734e+00,  1.054e+00],\n",
      "       [ 2.547e+00,  3.239e-01],\n",
      "       [ 3.494e+00,  1.166e+00],\n",
      "       [ 3.087e+00,  8.835e-01],\n",
      "       [ 3.509e+00, -9.736e-01],\n",
      "       [ 2.226e+00, -3.533e-01],\n",
      "       [ 2.511e+00,  3.815e-01],\n",
      "       [ 3.352e+00, -7.183e-01],\n",
      "       [ 3.948e+00,  1.446e+00],\n",
      "       [ 2.588e+00, -8.278e-01]]))\n"
     ]
    }
   ],
   "source": [
    "print(f\"Task {task_id} - AG tests\")\n",
    "stu_ans = answer_manifold_a()\n",
    "\n",
    "print(f\"Task {task_id} - your answer: {stu_ans}\")\n",
    "\n",
    "assert isinstance(stu_ans, tuple), \"Task 3a: Your function should return a tuple.\"\n",
    "\n",
    "assert isinstance(\n",
    "    stu_ans[0], np.ndarray\n",
    "), \"Task 3a: Your function should return an np.ndarray in element 0. \"\n",
    "\n",
    "assert isinstance(\n",
    "    stu_ans[1], np.ndarray\n",
    "), \"Task 3a: Your function should return an np.ndarray in element 1. \"\n",
    "\n",
    "assert isinstance(\n",
    "    stu_ans[2], np.ndarray\n",
    "), \"Task 3a: Your function should return an np.ndarray in element 2. \"\n",
    "\n",
    "assert stu_ans[0].shape == (\n",
    "    200,\n",
    "    2,\n",
    "), \"Task 3a: Your PCA np.ndarray is of an incorrect shape. \"\n",
    "\n",
    "assert stu_ans[1].shape == (\n",
    "    200,\n",
    "    2,\n",
    "), \"Task 3a: Your t-SNE np.ndarray is of an incorrect shape. \"\n",
    "\n",
    "assert stu_ans[2].shape == (\n",
    "    200,\n",
    "    2,\n",
    "), \"Task 3a: Your MDS np.ndarray is of an incorrect shape. \"\n",
    "\n",
    "# Some hidden tests\n",
    "\n",
    "del stu_ans"
   ]
  },
  {
   "cell_type": "markdown",
   "metadata": {
    "deletable": false,
    "editable": false,
    "nbgrader": {
     "cell_type": "markdown",
     "checksum": "dd28c1ef971f977bf1f5ee2d3474afd6",
     "grade": false,
     "grade_id": "cell-fc5d3d767a93af81",
     "locked": true,
     "schema_version": 3,
     "solution": false
    }
   },
   "source": [
    "### manifolds plot function"
   ]
  },
  {
   "cell_type": "code",
   "execution_count": 56,
   "metadata": {
    "deletable": false,
    "editable": false,
    "nbgrader": {
     "cell_type": "code",
     "checksum": "3687999dbfc4cf98dfeba82b568c0fd8",
     "grade": false,
     "grade_id": "cell-9928f226b19f4de6",
     "locked": true,
     "schema_version": 3,
     "solution": false,
     "task": false
    }
   },
   "outputs": [],
   "source": [
    "def plot_manifolds(X_pca, X_tsne, X_mds):\n",
    "\n",
    "    # X_pca, X_tsne, X_mds = answer_manifold_a()\n",
    "    fig, axes = plt.subplots(2, 2, figsize=(12, 12))\n",
    "\n",
    "    axes[0, 0].scatter(X[:, 0], X[:, 1], s=10, color=colors[y])\n",
    "    axes[0, 1].scatter(X_pca[:, 0], X_pca[:, 1], s=10, color=colors[y])\n",
    "    axes[1, 0].scatter(X_tsne[:, 0], X_tsne[:, 1], s=10, color=colors[y])\n",
    "    axes[1, 1].scatter(X_mds[:, 0], X_mds[:, 1], s=10, color=colors[y])\n",
    "\n",
    "    axes[0, 0].set_title(\"Original\")\n",
    "    axes[0, 1].set_title(\"PCA\")\n",
    "    axes[1, 0].set_title(\"t-SNE\")\n",
    "    axes[1, 1].set_title(\"MDS\")\n",
    "    plt.tight_layout()\n",
    "\n",
    "    return"
   ]
  },
  {
   "cell_type": "markdown",
   "metadata": {
    "deletable": false,
    "editable": false,
    "nbgrader": {
     "cell_type": "markdown",
     "checksum": "e18380775a67e33bf9414ac42ae969e4",
     "grade": false,
     "grade_id": "cell-b12ba6daaa2666c0",
     "locked": true,
     "schema_version": 3,
     "solution": false,
     "task": false
    }
   },
   "source": [
    "<a id='t3b'></a>\n",
    "### Task 3b - Interpreting plotted results (5 points).\n",
    "\n",
    "The goal for this part of the question is to compare the results visually in order to understand how cluster properties are affected differently by each method. This is important to understand before attempting to use them as preprocessing steps for other machine learning methods (such as clustering or classification).\n",
    "\n",
    "Step 1. Uncomment the code below to plot all three versions of the dimensionality-reduced dataset.\n",
    "\n",
    "Step 2. Examine the plots, and answer the following True/False questions.  \n",
    "\n",
    "Your function should return a *tuple* of \"T\" or \"F\" strings with your answers. For example, if your answers are True, True, False then your function should return the tuple (\"T\", \"T\", \"F\").\n",
    "\n",
    "Question 0:  t-SNE approximately preserves the density of each cluster.\n",
    "\n",
    "Question 1:  MDS approximately preserves relative distances between clusters.\n",
    "\n",
    "Question 2:  t-SNE approximately preserves relative distances between clusters.  \n",
    "\n",
    "<a href='#toc'>TOC</a>"
   ]
  },
  {
   "cell_type": "code",
   "execution_count": 57,
   "metadata": {},
   "outputs": [
    {
     "data": {
      "image/png": "[encoded data removed]",
      "text/plain": [
       "<Figure size 864x864 with 4 Axes>"
      ]
     },
     "metadata": {
      "needs_background": "light"
     },
     "output_type": "display_data"
    }
   ],
   "source": [
    "# Uncomment this code to generate the manifolds plot using your previous answers\n",
    "# note that the asterisk simply unpacks the tuple returned by answer_manifold_a()\n",
    "# remember to recomment before submitting\n",
    "\n",
    "plot_manifolds(*answer_manifold_a())"
   ]
  },
  {
   "cell_type": "markdown",
   "metadata": {
    "deletable": false,
    "editable": false,
    "nbgrader": {
     "cell_type": "markdown",
     "checksum": "bb83722db3b0ddb2d9561b794e722d6b",
     "grade": false,
     "grade_id": "cell-5083990c6820a5fe",
     "locked": true,
     "schema_version": 3,
     "solution": false,
     "task": false
    }
   },
   "source": [
    "(Questions repeated for your convenience)  \n",
    "\n",
    "Question 0:  t-SNE approximately preserves the density of each cluster.  \n",
    "Question 1:  MDS approximately preserves relative distances between clusters.  \n",
    "Question 2:  t-SNE approximately preserves relative distances between clusters."
   ]
  },
  {
   "cell_type": "code",
   "execution_count": 58,
   "metadata": {
    "deletable": false,
    "editable": false,
    "nbgrader": {
     "cell_type": "code",
     "checksum": "ee6747e18a37bb5ba7be6120feb7656a",
     "grade": true,
     "grade_id": "cell-eb8cec56a955268b",
     "locked": true,
     "points": 0,
     "schema_version": 3,
     "solution": false,
     "task": false
    }
   },
   "outputs": [],
   "source": [
    "# something to say\n",
    "task_id = \"3b\""
   ]
  },
  {
   "cell_type": "code",
   "execution_count": 59,
   "metadata": {
    "deletable": false,
    "nbgrader": {
     "cell_type": "code",
     "checksum": "8c61963f694a9cfc6ee8f61ff0f52314",
     "grade": false,
     "grade_id": "cell-08f359ff9a3f2300",
     "locked": false,
     "schema_version": 3,
     "solution": true
    }
   },
   "outputs": [],
   "source": [
    "def answer_manifold_b():\n",
    "    result = None\n",
    "\n",
    "    # YOUR CODE HERE\n",
    "#     raise NotImplementedError()\n",
    "    \n",
    "    result = (\"F\", \"T\", \"F\")\n",
    "\n",
    "    return result"
   ]
  },
  {
   "cell_type": "code",
   "execution_count": 60,
   "metadata": {},
   "outputs": [],
   "source": [
    "# use this cell to explore your solution\n",
    "# remember to comment the function call before submitting the notebook\n",
    "\n",
    "# answer_manifold_b()"
   ]
  },
  {
   "cell_type": "code",
   "execution_count": 61,
   "metadata": {
    "deletable": false,
    "editable": false,
    "nbgrader": {
     "cell_type": "code",
     "checksum": "1484a875521b0edc8a5bffd0e0acd5b1",
     "grade": true,
     "grade_id": "cell-2a7593f1cf1a03b8",
     "locked": true,
     "points": 5,
     "schema_version": 3,
     "solution": false
    }
   },
   "outputs": [
    {
     "name": "stdout",
     "output_type": "stream",
     "text": [
      "Task 3b - AG tests\n",
      "Task 3b - your answer: ('F', 'T', 'F')\n"
     ]
    }
   ],
   "source": [
    "print(f\"Task {task_id} - AG tests\")\n",
    "stu_ans = answer_manifold_b()\n",
    "\n",
    "print(f\"Task {task_id} - your answer: {stu_ans}\")\n",
    "\n",
    "assert isinstance(stu_ans, tuple), \"Task 3b: Your function should return a tuple.\"\n",
    "\n",
    "assert (\n",
    "    len(stu_ans) == 3\n",
    "), \"Task 3b: Your function should return a tuple with three elements.\"\n",
    "\n",
    "# Some hidden tests\n",
    "\n",
    "del stu_ans"
   ]
  },
  {
   "cell_type": "markdown",
   "metadata": {
    "deletable": false,
    "editable": false,
    "nbgrader": {
     "cell_type": "markdown",
     "checksum": "d454317f21682beef530acb10f0c00d5",
     "grade": false,
     "grade_id": "cell-26aea9a8db755572",
     "locked": true,
     "schema_version": 3,
     "solution": false
    }
   },
   "source": [
    "<a id='Topic4'></a>\n",
    "## Topic 4 - Density Estimation (30 points total).\n",
    "In this question you'll use the following health study dataset to estimate the probability density of individual variables (features). This is useful for a variety of reasons, but one particular widely-used application is to build classifiers that use the resulting density-based features. (The Naive Bayes classifier is one example of this.) To see what this means, in the last part of the question you'll use one of the density-based features to create a simple classifier that predicts the probability that someone has a medical condition.  \n",
    "\n",
    "<a href='#toc'>TOC</a>"
   ]
  },
  {
   "cell_type": "markdown",
   "metadata": {
    "deletable": false,
    "editable": false,
    "nbgrader": {
     "cell_type": "markdown",
     "checksum": "addae782d53824048b570e81ac507d59",
     "grade": false,
     "grade_id": "cell-0851f78da9eed5ba",
     "locked": true,
     "schema_version": 3,
     "solution": false
    }
   },
   "source": [
    "Coronary Risk Factor Study (CORIS)  Rousseauw et al 1983.\n",
    "(CHD stands for Coronary Heart Disease.)\n",
    "Details in Hastie and Tibshirani (1987).\n",
    "\n",
    "A retrospective sample of males in a heart-disease high-risk region\n",
    "of the Western Cape, South Africa. There are roughly two controls per\n",
    "case of CHD. Many of the CHD positive men have undergone blood\n",
    "pressure reduction treatment and other programs to reduce their risk\n",
    "factors after their CHD event. In some cases the measurements were\n",
    "made after these treatments. These data are taken from a larger\n",
    "dataset, described in  Rousseauw et al, 1983, South African Medical\n",
    "Journal.\n",
    "\n",
    "| Attribute | Additional Description |\n",
    "| :- | :- | \n",
    "| `sbp` | systolic blood pressure |\n",
    "| `ldl` | low density lipoprotein cholesterol |\n",
    "| `adiposity` |  |\n",
    "| `famhist` | family history of heart disease (Present, Absent) |\n",
    "| `typea` | type-A behavior |\n",
    "| `obesity` |  |\n",
    "| `alcohol` | current alcohol consumption |\n",
    "| `age` | age at onset |\n",
    "| `chd` | response, coronary heart disease |"
   ]
  },
  {
   "cell_type": "markdown",
   "metadata": {
    "deletable": false,
    "editable": false,
    "nbgrader": {
     "cell_type": "markdown",
     "checksum": "bd9805fc1de26207625b7f7d8d7f4a88",
     "grade": false,
     "grade_id": "cell-2dc9f11e0447f052",
     "locked": true,
     "schema_version": 3,
     "solution": false
    }
   },
   "source": [
    "<a id='t4a'></a>\n",
    "### Task 4a - Ingest the heart dataset (5 points).\n",
    "Read the file `assets/mads_SAHeart.csv` into a dataframe. Then partition this into two dataset variables:\n",
    "\n",
    "    X_sbp_chd which selects the single feature 'sbp' from all rows with chd == 1\n",
    "    X_sbp_nochd which selects the single feature 'sbp' from all rows with chd == 0\n",
    "    \n",
    "Your function should return these two variables as a tuple (X_sbp_chd, X_sbp_nochd). Each tuple entry should be a numpy ndarray with exactly 1 column (the 'sbp' feature value).  \n",
    "\n",
    "<a href='#toc'>TOC</a>"
   ]
  },
  {
   "cell_type": "code",
   "execution_count": 62,
   "metadata": {
    "deletable": false,
    "editable": false,
    "nbgrader": {
     "cell_type": "code",
     "checksum": "c7a17b82578e7c726fff4422a47f52a4",
     "grade": true,
     "grade_id": "cell-e01fcd937cd3364d",
     "locked": true,
     "points": 0,
     "schema_version": 3,
     "solution": false,
     "task": false
    }
   },
   "outputs": [],
   "source": [
    "# something to say\n",
    "task_id = \"4a\""
   ]
  },
  {
   "cell_type": "code",
   "execution_count": 63,
   "metadata": {
    "deletable": false,
    "nbgrader": {
     "cell_type": "code",
     "checksum": "285a87002c334fcbe73dca986c4c18e8",
     "grade": false,
     "grade_id": "correct_squares",
     "locked": false,
     "schema_version": 3,
     "solution": true
    }
   },
   "outputs": [],
   "source": [
    "def answer_kde_a():\n",
    "\n",
    "    result = None\n",
    "    df = pd.read_csv(heart_dataset)\n",
    "    df = df.dropna()\n",
    "    first = df[df['chd'] ==1]['sbp'].values.reshape(len(df[df['chd'] ==1]['sbp']),1)\n",
    "    second = df[df['chd'] ==0]['sbp'].values.reshape(len(df[df['chd'] ==0]['sbp']),1)\n",
    "    result = (first, second)\n",
    "\n",
    "    return result"
   ]
  },
  {
   "cell_type": "code",
   "execution_count": 64,
   "metadata": {},
   "outputs": [],
   "source": [
    "# use this cell to explore your solution\n",
    "# remember to comment the function call before submitting the notebook\n",
    "\n",
    "# answer_kde_a()"
   ]
  },
  {
   "cell_type": "code",
   "execution_count": 65,
   "metadata": {
    "deletable": false,
    "editable": false,
    "nbgrader": {
     "cell_type": "code",
     "checksum": "6ea61a16f5b0071fbd56589378d6c221",
     "grade": true,
     "grade_id": "squares_invalid_input",
     "locked": false,
     "points": 5,
     "schema_version": 3,
     "solution": false
    }
   },
   "outputs": [
    {
     "name": "stdout",
     "output_type": "stream",
     "text": [
      "Task 4a - AG tests\n"
     ]
    }
   ],
   "source": [
    "print(f\"Task {task_id} - AG tests\")\n",
    "stu_ans = answer_kde_a()\n",
    "\n",
    "# print(f\"Task {task_id} - your answer: {stu_ans}\")\n",
    "\n",
    "assert isinstance(stu_ans, tuple), \"Q4a: Your function should return a tuple.\"\n",
    "\n",
    "assert isinstance(\n",
    "    stu_ans[0], np.ndarray\n",
    "), \"Task 4a: Your function should return an np.ndarray in element 0. \"\n",
    "\n",
    "assert isinstance(\n",
    "    stu_ans[1], np.ndarray\n",
    "), \"Task 4a: Your function should return an np.ndarray in element 1. \"\n",
    "\n",
    "assert stu_ans[0].shape == (\n",
    "    160,\n",
    "    1,\n",
    "), \"Task 4a: Your X_sbp_chd np.ndarray is of an incorrect shape. \"\n",
    "\n",
    "assert stu_ans[1].shape == (\n",
    "    302,\n",
    "    1,\n",
    "), \"Task 4a: Your X_sbp_nochd np.ndarray is of an incorrect shape. \"\n",
    "\n",
    "# Some hidden tests\n",
    "\n",
    "\n",
    "del stu_ans"
   ]
  },
  {
   "cell_type": "markdown",
   "metadata": {
    "deletable": false,
    "editable": false,
    "nbgrader": {
     "cell_type": "markdown",
     "checksum": "d62cf873cab9c3f955528db00f506180",
     "grade": false,
     "grade_id": "cell-6f89ea32367126d0",
     "locked": true,
     "schema_version": 3,
     "solution": false
    }
   },
   "source": [
    "<a id='t4b'></a>\n",
    "### Task 4b - Applying Kernel Density Estimation (10 points).\n",
    "\n",
    "Recall that Kernel Density Estimation (KDE) is a non-parametric method: it is memory-based (sometimes called instance-based) learning, meaning that we don't assume the density has a simple, parametric form like a Gaussian. Instead, as we saw for other methods like k-nearest neighbor, the density model itself is defined by the entire training set: KDE first applies a kernel function around every point, to \"smooth it out\". The width of the kernel function, and thus, the degree of smoothing, is parametrized by a \"bandwidth\" parameter. A Gaussian is often used as the kernel function, so for this question, we'll apply a *Gaussian kernel function* to every point, centred on the point, *with bandwidth parameter 5*. With that configuration, compute two kernel density estimates based on the `sbp` variable, for (a) subjects with CHD and (b) subjects without CHD.\n",
    "\n",
    "Your function should return a tuple with two elements. The first and second elements, respectively, are the result (the log density values) of the \"score_samples\" method on the CHD density and non-CHD density. These should each be a numpy array of shape (400,), since the input to the score_samples method in both cases should be an array of 400 points, evenly spaced starting at 100 up to a maximum of 220.  \n",
    "\n",
    "<a href='#toc'>TOC</a>"
   ]
  },
  {
   "cell_type": "code",
   "execution_count": 66,
   "metadata": {
    "deletable": false,
    "editable": false,
    "nbgrader": {
     "cell_type": "code",
     "checksum": "dbdf5be3e786b47a72595b0daa69beab",
     "grade": true,
     "grade_id": "cell-3637c3440599f86a",
     "locked": true,
     "points": 0,
     "schema_version": 3,
     "solution": false,
     "task": false
    }
   },
   "outputs": [],
   "source": [
    "# something to say\n",
    "task_id = \"4b\""
   ]
  },
  {
   "cell_type": "code",
   "execution_count": 67,
   "metadata": {
    "deletable": false,
    "nbgrader": {
     "cell_type": "code",
     "checksum": "9a609dd5e8d272b0a8420169897b9033",
     "grade": false,
     "grade_id": "cell-96e0486dbba2826d",
     "locked": false,
     "schema_version": 3,
     "solution": true
    }
   },
   "outputs": [],
   "source": [
    "def answer_kde_b():\n",
    "    result = None\n",
    "    from sklearn.neighbors import KernelDensity\n",
    "    X = np.linspace(100, 220, 400)[:, np.newaxis]\n",
    "    kde1 = KernelDensity(kernel=\"gaussian\", bandwidth=5).fit(answer_kde_a()[0])\n",
    "    log_dens1 = kde1.score_samples(X)\n",
    "    kde2 = KernelDensity(kernel=\"gaussian\", bandwidth=5).fit(answer_kde_a()[1])\n",
    "    log_dens2 = kde2.score_samples(X)\n",
    "    result = (log_dens1, log_dens2)\n",
    "\n",
    "\n",
    "    return result"
   ]
  },
  {
   "cell_type": "code",
   "execution_count": 68,
   "metadata": {},
   "outputs": [],
   "source": [
    "# use this cell to explore your solution\n",
    "# remember to comment the function call before submitting the notebook\n",
    "\n",
    "# answer_kde_b()"
   ]
  },
  {
   "cell_type": "code",
   "execution_count": 69,
   "metadata": {
    "deletable": false,
    "editable": false,
    "nbgrader": {
     "cell_type": "code",
     "checksum": "24142a34f1bd4f9a2b064e8dac87ddf3",
     "grade": true,
     "grade_id": "cell-b5cb7661b0cd1cb6",
     "locked": true,
     "points": 10,
     "schema_version": 3,
     "solution": false
    }
   },
   "outputs": [
    {
     "name": "stdout",
     "output_type": "stream",
     "text": [
      "Task 4b - AG tests\n"
     ]
    }
   ],
   "source": [
    "print(f\"Task {task_id} - AG tests\")\n",
    "stu_ans = answer_kde_b()\n",
    "\n",
    "# print(f\"Task {task_id} - your answer:\\n{stu_ans}\")\n",
    "\n",
    "assert isinstance(stu_ans, tuple), \"Task 4b: Your function should return a tuple.\"\n",
    "\n",
    "assert isinstance(\n",
    "    stu_ans[0], np.ndarray\n",
    "), \"Task 4b: Your function should return an np.ndarray in element 0. \"\n",
    "\n",
    "assert isinstance(\n",
    "    stu_ans[1], np.ndarray\n",
    "), \"Task 4b: Your function should return an np.ndarray in element 1. \"\n",
    "\n",
    "assert stu_ans[0].shape == (400,), \"Task 4b: Your first array has an incorrect shape. \"\n",
    "\n",
    "assert stu_ans[1].shape == (400,), \"Task 4b: Your second array has an incorrect shape. \"\n",
    "\n",
    "# Some hidden tests\n",
    "\n",
    "del stu_ans"
   ]
  },
  {
   "cell_type": "markdown",
   "metadata": {
    "deletable": false,
    "editable": false,
    "nbgrader": {
     "cell_type": "markdown",
     "checksum": "ccc6e9f7999577893bc6b9751c1e4867",
     "grade": false,
     "grade_id": "cell-570ddb215c3445d6",
     "locked": true,
     "schema_version": 3,
     "solution": false
    }
   },
   "source": [
    "<a id='t4b1'></a>\n",
    "### Use the function below to plot the densities returned by answer_kde_b().  \n",
    "\n",
    "<a href='#toc'>TOC</a>"
   ]
  },
  {
   "cell_type": "code",
   "execution_count": 70,
   "metadata": {
    "deletable": false,
    "editable": false,
    "nbgrader": {
     "cell_type": "code",
     "checksum": "5789a065fd8fb099f87a91db983bee43",
     "grade": false,
     "grade_id": "cell-4230da78cdbfd790",
     "locked": true,
     "schema_version": 3,
     "solution": false,
     "task": false
    }
   },
   "outputs": [],
   "source": [
    "def plot_densities(X_plot, class1, class2):\n",
    "    plt.figure(figsize=(8, 6))\n",
    "    plt.clf()\n",
    "    plt.plot(X_plot, class1, color=\"g\", label=\"No CHD\")\n",
    "    plt.plot(X_plot, class2, color=\"r\", label=\"CHD\")\n",
    "    plt.title(\"Density Plot of Systolic Blood Pressure\")\n",
    "    plt.xlabel(\"Systolic Pressure\")\n",
    "    plt.ylabel(\"Density\")\n",
    "    plt.legend()\n",
    "    plt.tight_layout()\n",
    "\n",
    "    return\n",
    "\n",
    "\n",
    "def make_density_plot():\n",
    "    X_plot = np.linspace(100, 220, num=400)\n",
    "    (log_dens_chd, log_dens_nochd) = answer_kde_b()\n",
    "    plot_densities(X_plot, np.exp(log_dens_nochd), np.exp(log_dens_chd))\n",
    "\n",
    "    return"
   ]
  },
  {
   "cell_type": "code",
   "execution_count": 71,
   "metadata": {},
   "outputs": [
    {
     "data": {
      "image/png": "[encoded data removed]",
      "text/plain": [
       "<Figure size 576x432 with 1 Axes>"
      ]
     },
     "metadata": {
      "needs_background": "light"
     },
     "output_type": "display_data"
    }
   ],
   "source": [
    "# Uncomment this code to generate the densities plot using your previous answers\n",
    "# remember to recomment before submitting\n",
    "\n",
    "make_density_plot()"
   ]
  },
  {
   "cell_type": "markdown",
   "metadata": {
    "deletable": false,
    "editable": false,
    "nbgrader": {
     "cell_type": "markdown",
     "checksum": "c2e26958f2b458388524ec98c9769a2d",
     "grade": false,
     "grade_id": "cell-775b131a4bb07dc6",
     "locked": true,
     "schema_version": 3,
     "solution": false
    }
   },
   "source": [
    "<a id='t4c'></a>\n",
    "### Task 4c - Binary classification using density estimates (15 points).\n",
    "\n",
    "Now we'll use the density estimates you computed for the systolic pressure feature to build a very simple probabilistic Bayesian binary classifier that predicts one of two classes: $c_{CHD}$ or $c_{notCHD}$, based on that single `sbp` feature alone. When you computed the density estimate you already trained the classifier: by learning the density you can now compute (with the score_samples method) the quantities $\\log p(x | c_{CHD})$ and $\\log p(x | c_{notCHD})$ where $x$ is the `sbp` feature, using the score_samples method of the density estimator\n",
    "\n",
    "But if we want to predict the class of a new patient with a value $x_{NEW}$ for `sbp` systolic pressure, the classifier will need to compute $p(c_{CHD} | x)$ and $p(c_{notCHD} | x)$, and then output the class with highest probability for its prediction. How can we get $p(c_{CHD} | x)$ from $\\log p(x | c_{CHD})$ ?\n",
    "\n",
    "Bayes' rule to the rescue! According to Bayes' rule, we have\n",
    "\n",
    "$$p(c_{CHD} | x) = \\frac{p(x | c_{CHD}) \\cdot p(c_{CHD})}{p(x)}. $$\n",
    "and\n",
    "$$p(c_{notCHD} | x) = \\frac{p(x | c_{notCHD}) \\cdot p(c_{notCHD})}{p(x)}. $$\n",
    "\n",
    "As a reminder, the quantity $p(c_{CHD})$ is called the *class prior*.  It reflects our belief that a patient has CHD before we see any specific individual evidence about them (e.g. from our knowledge of the general population perhaps). The quantity $p(c_{CHD} | x)$ is called the *class posterior* because it reflects an updated belief about whether or not the patient has CHD after seeing their systolic pressure observation $x$.\n",
    "\n",
    "Taking logarithms of both sides gives us\n",
    "\n",
    "$$\\log p(c_{CHD} | x) = \\log p(x | c_{CHD}) + \\log p(c_{CHD}) - \\log p(x). $$\n",
    "and\n",
    "$$\\log p(c_{notCHD} | x) = \\log p(x | c_{notCHD}) + \\log p(c_{notCHD}) - \\log p(x). $$\n",
    "\n",
    "Goal accomplished. Now we just need to compute each of the above class predictions and select the class that gives the log probability that is greater. Note that the term $\\log p(x)$ is subtracted in the above prediction formulas for both classes, so we can remove it since it will not affect the final decision. Thus to make the class predictions we just need to compute the proportional quantities\n",
    "\n",
    "$$\\log p(c_{CHD} | x) \\propto \\log p(x | c_{CHD}) + \\log p(c_{CHD})$$\n",
    "and\n",
    "$$\\log p(c_{notCHD} | x) \\propto \\log p(x | c_{notCHD}) + \\log p(c_{notCHD})$$\n",
    "\n",
    "where the $\\propto$ symbol means \"is proportional to\".\n",
    "\n",
    "For this question, we'll assume that the prior $p(c_{CHD}) = 0.5$ for this group of patients, assuming they have already been referred to a specialist. (This doesn't reflect reality in the general case and you should experiment with different choices of lower-probability prior to see the effect on classification results.)\n",
    "\n",
    "You can get a small test dataset by calling the given function `get_chd_test_data`. Your function should return a float that is the accuracy score of your Bayesian classifier on the provided test examples. (Just a single prediction, not using cross-validation.)  \n",
    "\n",
    "<a href='#toc'>TOC</a>"
   ]
  },
  {
   "cell_type": "code",
   "execution_count": 72,
   "metadata": {
    "deletable": false,
    "editable": false,
    "nbgrader": {
     "cell_type": "code",
     "checksum": "2905371502705aa3bffafd892910c272",
     "grade": false,
     "grade_id": "cell-a7778195c084b4d3",
     "locked": true,
     "schema_version": 3,
     "solution": false
    }
   },
   "outputs": [],
   "source": [
    "def get_chd_test_data():\n",
    "    # column 0 is 'sbp' feature, column 1 is CHD label (=1 if CHD, else 0)\n",
    "    result = np.array(\n",
    "        [\n",
    "            [200, 1],\n",
    "            [169, 1],\n",
    "            [120, 0],\n",
    "            [135, 1],\n",
    "            [142, 0],\n",
    "            [143, 1],\n",
    "            [150, 1],\n",
    "            [162, 1],\n",
    "            [100, 0],\n",
    "            [112, 0],\n",
    "        ]\n",
    "    )\n",
    "\n",
    "    return result"
   ]
  },
  {
   "cell_type": "code",
   "execution_count": 73,
   "metadata": {
    "deletable": false,
    "editable": false,
    "nbgrader": {
     "cell_type": "code",
     "checksum": "f90259ad9a82fb86859e9846d8b342cc",
     "grade": true,
     "grade_id": "cell-678e6fbe8d2a7261",
     "locked": true,
     "points": 0,
     "schema_version": 3,
     "solution": false,
     "task": false
    }
   },
   "outputs": [],
   "source": [
    "# something to say\n",
    "task_id = \"4c\""
   ]
  },
  {
   "cell_type": "code",
   "execution_count": 74,
   "metadata": {
    "deletable": false,
    "nbgrader": {
     "cell_type": "code",
     "checksum": "1febea62373fdf7e8250fceb23317881",
     "grade": false,
     "grade_id": "cell-866fcf8bdbec78d0",
     "locked": false,
     "schema_version": 3,
     "solution": true
    }
   },
   "outputs": [],
   "source": [
    "def answer_kde_c():\n",
    "    result = None\n",
    "    from sklearn.neighbors import KernelDensity\n",
    "    kde1 = KernelDensity(kernel=\"gaussian\", bandwidth=5).fit(answer_kde_a()[0])\n",
    "    kde2 = KernelDensity(kernel=\"gaussian\", bandwidth=5).fit(answer_kde_a()[1])\n",
    "    a1 = np.exp(kde1.score_samples(get_chd_test_data()[:,0][:, np.newaxis]))\n",
    "    a2 = np.exp(kde2.score_samples(get_chd_test_data()[:,0][:, np.newaxis]))\n",
    "    pred = np.where(a1>a2, 1, 0)\n",
    "    result = sum(pred ==get_chd_test_data()[:,1])/get_chd_test_data()[:,1].shape[0]\n",
    "\n",
    "    return result"
   ]
  },
  {
   "cell_type": "code",
   "execution_count": 75,
   "metadata": {},
   "outputs": [],
   "source": [
    "# use this cell to explore your solution\n",
    "# remember to comment the function call before submitting the notebook\n",
    "\n",
    "# answer_kde_c()"
   ]
  },
  {
   "cell_type": "code",
   "execution_count": 76,
   "metadata": {
    "deletable": false,
    "editable": false,
    "nbgrader": {
     "cell_type": "code",
     "checksum": "96f4e60fc763ff79192c0a438350925e",
     "grade": true,
     "grade_id": "cell-d6618620c1ab0fd0",
     "locked": true,
     "points": 15,
     "schema_version": 3,
     "solution": false
    }
   },
   "outputs": [
    {
     "name": "stdout",
     "output_type": "stream",
     "text": [
      "Task 4c - AG tests\n",
      "Task 4c - your answer: 0.7\n"
     ]
    }
   ],
   "source": [
    "print(f\"Task {task_id} - AG tests\")\n",
    "stu_ans = answer_kde_c()\n",
    "\n",
    "print(f\"Task {task_id} - your answer: {stu_ans}\")\n",
    "\n",
    "assert isinstance(\n",
    "    stu_ans, (float, np.floating)\n",
    "), \"Task 4c: Your function should return a float.\"\n",
    "\n",
    "# Some hidden tests\n",
    "\n",
    "del stu_ans"
   ]
  },
  {
   "cell_type": "markdown",
   "metadata": {
    "deletable": false,
    "editable": false,
    "nbgrader": {
     "cell_type": "markdown",
     "checksum": "83c9da78678cac4c4a2927a78a1655cc",
     "grade": false,
     "grade_id": "cell-f9a7bb6565c013eb",
     "locked": true,
     "schema_version": 3,
     "solution": false,
     "task": false
    }
   },
   "source": [
    "<a href='#toc'>TOC</a>"
   ]
  },
  {
   "cell_type": "code",
   "execution_count": null,
   "metadata": {},
   "outputs": [],
   "source": []
  },
  {
   "cell_type": "code",
   "execution_count": null,
   "metadata": {},
   "outputs": [],
   "source": []
  }
 ],
 "metadata": {
  "coursera": {
   "schema_names": [
    "mads_unsupervised_learning_v1_assignment1"
   ]
  },
  "kernelspec": {
   "display_name": "Python 3 (ipykernel)",
   "language": "python",
   "name": "python3"
  },
  "language_info": {
   "codemirror_mode": {
    "name": "ipython",
    "version": 3
   },
   "file_extension": ".py",
   "mimetype": "text/x-python",
   "name": "python",
   "nbconvert_exporter": "python",
   "pygments_lexer": "ipython3",
   "version": "3.8.10"
  }
 },
 "nbformat": 4,
 "nbformat_minor": 1
}
